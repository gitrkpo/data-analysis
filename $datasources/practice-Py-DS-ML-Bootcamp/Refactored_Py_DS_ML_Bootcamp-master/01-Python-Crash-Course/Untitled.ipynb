{
 "cells": [
  {
   "cell_type": "code",
   "execution_count": 5,
   "id": "c28fd3c9",
   "metadata": {},
   "outputs": [
    {
     "data": {
      "text/plain": [
       "'My name is mo and my age is 23'"
      ]
     },
     "execution_count": 5,
     "metadata": {},
     "output_type": "execute_result"
    }
   ],
   "source": [
    "name='oi'\n",
    "age='toi'\n",
    "'My name is {name} and my age is {age}'.format(name='mo',age=23)"
   ]
  },
  {
   "cell_type": "code",
   "execution_count": 8,
   "id": "06e34546",
   "metadata": {},
   "outputs": [
    {
     "name": "stdout",
     "output_type": "stream",
     "text": [
      "My name is mo and my age is 23\n"
     ]
    }
   ],
   "source": [
    "print('My name is {name} and my age is {age}'.format(name='mo',age=23))"
   ]
  },
  {
   "cell_type": "code",
   "execution_count": 9,
   "id": "46b4683c",
   "metadata": {},
   "outputs": [
    {
     "name": "stdout",
     "output_type": "stream",
     "text": [
      "oi\n"
     ]
    }
   ],
   "source": [
    "print(name)"
   ]
  },
  {
   "cell_type": "code",
   "execution_count": 19,
   "id": "ece6bdd0",
   "metadata": {},
   "outputs": [
    {
     "data": {
      "text/plain": [
       "'cd'"
      ]
     },
     "execution_count": 19,
     "metadata": {},
     "output_type": "execute_result"
    }
   ],
   "source": [
    "s='abcdefghijk'\n",
    "s[2:4]"
   ]
  },
  {
   "cell_type": "code",
   "execution_count": 22,
   "id": "4849846f",
   "metadata": {},
   "outputs": [
    {
     "data": {
      "text/plain": [
       "2"
      ]
     },
     "execution_count": 22,
     "metadata": {},
     "output_type": "execute_result"
    }
   ],
   "source": [
    "s=['hi',1,[1,2]]\n",
    "s[2][1]"
   ]
  },
  {
   "cell_type": "code",
   "execution_count": 24,
   "id": "0cb7f4c8",
   "metadata": {},
   "outputs": [
    {
     "name": "stdout",
     "output_type": "stream",
     "text": [
      "['a', 'b', 'c', 'd']\n"
     ]
    },
    {
     "data": {
      "text/plain": [
       "'d'"
      ]
     },
     "execution_count": 24,
     "metadata": {},
     "output_type": "execute_result"
    }
   ],
   "source": [
    "s=[1,2,3]\n",
    "a=['a','b','c']\n",
    "a.append('d')\n",
    "print(a)\n",
    "a[3]"
   ]
  },
  {
   "cell_type": "code",
   "execution_count": 29,
   "id": "a78de9d1",
   "metadata": {},
   "outputs": [
    {
     "ename": "SyntaxError",
     "evalue": "invalid syntax (838876563.py, line 2)",
     "output_type": "error",
     "traceback": [
      "\u001b[1;36m  Cell \u001b[1;32mIn[29], line 2\u001b[1;36m\u001b[0m\n\u001b[1;33m    print(a[a[0]='My'])\u001b[0m\n\u001b[1;37m                ^\u001b[0m\n\u001b[1;31mSyntaxError\u001b[0m\u001b[1;31m:\u001b[0m invalid syntax\n"
     ]
    }
   ],
   "source": [
    "a=[1,2,3,4,5]\n",
    "print(a[a[0]='My'])\n",
    " \n"
   ]
  },
  {
   "cell_type": "code",
   "execution_count": 31,
   "id": "9035bdcb",
   "metadata": {},
   "outputs": [
    {
     "data": {
      "text/plain": [
       "[3, 4]"
      ]
     },
     "execution_count": 31,
     "metadata": {},
     "output_type": "execute_result"
    }
   ],
   "source": [
    "nest = [1,2,[3,4],5]\n",
    "nest[2]"
   ]
  },
  {
   "cell_type": "code",
   "execution_count": 33,
   "id": "2ccee6ac",
   "metadata": {},
   "outputs": [
    {
     "data": {
      "text/plain": [
       "['target']"
      ]
     },
     "execution_count": 33,
     "metadata": {},
     "output_type": "execute_result"
    }
   ],
   "source": [
    "nest = [1,2,3,[4,5,['target']]]\n",
    "nest[3][2]"
   ]
  },
  {
   "cell_type": "code",
   "execution_count": 42,
   "id": "c38eee83",
   "metadata": {},
   "outputs": [
    {
     "data": {
      "text/plain": [
       "{'apple': (1, 2, 3)}"
      ]
     },
     "execution_count": 42,
     "metadata": {},
     "output_type": "execute_result"
    }
   ],
   "source": [
    "data = {\"apple\": (1, 2, 3)}  # Dictionary with a tuple as a value\n",
    "data"
   ]
  },
  {
   "cell_type": "code",
   "execution_count": 44,
   "id": "e725c2c3",
   "metadata": {},
   "outputs": [
    {
     "ename": "SyntaxError",
     "evalue": "invalid syntax (1289415617.py, line 1)",
     "output_type": "error",
     "traceback": [
      "\u001b[1;36m  Cell \u001b[1;32mIn[44], line 1\u001b[1;36m\u001b[0m\n\u001b[1;33m    data = ((\"apple\": (1, 2, 3)))  # Tuple of tuples\u001b[0m\n\u001b[1;37m                    ^\u001b[0m\n\u001b[1;31mSyntaxError\u001b[0m\u001b[1;31m:\u001b[0m invalid syntax\n"
     ]
    }
   ],
   "source": [
    "data = ((\"apple\": (1, 2, 3)))  # Tuple of tuples\n",
    "print(data)"
   ]
  },
  {
   "cell_type": "code",
   "execution_count": 52,
   "id": "6175418b",
   "metadata": {},
   "outputs": [
    {
     "data": {
      "text/plain": [
       "3"
      ]
     },
     "execution_count": 52,
     "metadata": {},
     "output_type": "execute_result"
    }
   ],
   "source": [
    "d= {'k1':[1,2,3]}\n",
    "d['k1'][2]"
   ]
  },
  {
   "cell_type": "code",
   "execution_count": 56,
   "id": "b6f211cc",
   "metadata": {},
   "outputs": [
    {
     "data": {
      "text/plain": [
       "['oi', 2, 3]"
      ]
     },
     "execution_count": 56,
     "metadata": {},
     "output_type": "execute_result"
    }
   ],
   "source": [
    "t = [1,2,3]\n",
    "t[0] = 'oi'\n",
    "t"
   ]
  },
  {
   "cell_type": "code",
   "execution_count": 58,
   "id": "6749efac",
   "metadata": {},
   "outputs": [],
   "source": [
    "#Sets = unique elements"
   ]
  },
  {
   "cell_type": "code",
   "execution_count": 59,
   "id": "76bbb895",
   "metadata": {},
   "outputs": [
    {
     "data": {
      "text/plain": [
       "{1, 2, 3, 4, 5, 6}"
      ]
     },
     "execution_count": 59,
     "metadata": {},
     "output_type": "execute_result"
    }
   ],
   "source": [
    "a = {1,2,3,4,1,2,3,4,5,6}\n",
    "a"
   ]
  },
  {
   "cell_type": "code",
   "execution_count": 61,
   "id": "63974361",
   "metadata": {},
   "outputs": [
    {
     "name": "stdout",
     "output_type": "stream",
     "text": [
      "{1, 2, 3, 4, 5, 6}\n"
     ]
    }
   ],
   "source": [
    "a= (1,2,3,4,5,1,1,2,3,4,5,6,1,2,3)\n",
    "print(set(a))"
   ]
  },
  {
   "cell_type": "code",
   "execution_count": 66,
   "id": "aed5b993",
   "metadata": {},
   "outputs": [
    {
     "data": {
      "text/plain": [
       "{1, 2, 3, 4, 6}"
      ]
     },
     "execution_count": 66,
     "metadata": {},
     "output_type": "execute_result"
    }
   ],
   "source": [
    "s={1,2,3,4}\n",
    "s.add(6)\n",
    "s"
   ]
  },
  {
   "cell_type": "code",
   "execution_count": 67,
   "id": "75b5f91b",
   "metadata": {},
   "outputs": [
    {
     "data": {
      "text/plain": [
       "False"
      ]
     },
     "execution_count": 67,
     "metadata": {},
     "output_type": "execute_result"
    }
   ],
   "source": [
    "1>2"
   ]
  },
  {
   "cell_type": "code",
   "execution_count": 68,
   "id": "871be784",
   "metadata": {},
   "outputs": [
    {
     "data": {
      "text/plain": [
       "True"
      ]
     },
     "execution_count": 68,
     "metadata": {},
     "output_type": "execute_result"
    }
   ],
   "source": [
    "1>=1"
   ]
  },
  {
   "cell_type": "code",
   "execution_count": 69,
   "id": "f0d0ba8e",
   "metadata": {},
   "outputs": [
    {
     "data": {
      "text/plain": [
       "False"
      ]
     },
     "execution_count": 69,
     "metadata": {},
     "output_type": "execute_result"
    }
   ],
   "source": [
    "1>1"
   ]
  },
  {
   "cell_type": "code",
   "execution_count": 70,
   "id": "85384b38",
   "metadata": {},
   "outputs": [
    {
     "data": {
      "text/plain": [
       "True"
      ]
     },
     "execution_count": 70,
     "metadata": {},
     "output_type": "execute_result"
    }
   ],
   "source": [
    " 1 == 1"
   ]
  },
  {
   "cell_type": "code",
   "execution_count": 73,
   "id": "b99da211",
   "metadata": {},
   "outputs": [
    {
     "data": {
      "text/plain": [
       "True"
      ]
     },
     "execution_count": 73,
     "metadata": {},
     "output_type": "execute_result"
    }
   ],
   "source": [
    "1!=2"
   ]
  },
  {
   "cell_type": "code",
   "execution_count": 75,
   "id": "47c1762d",
   "metadata": {},
   "outputs": [
    {
     "data": {
      "text/plain": [
       "True"
      ]
     },
     "execution_count": 75,
     "metadata": {},
     "output_type": "execute_result"
    }
   ],
   "source": [
    "'hi' != 'bye'"
   ]
  },
  {
   "cell_type": "code",
   "execution_count": 81,
   "id": "f8a8ad05",
   "metadata": {},
   "outputs": [
    {
     "name": "stdout",
     "output_type": "stream",
     "text": [
      "yes\n"
     ]
    }
   ],
   "source": [
    "if 1<2:\n",
    "    print('yes')\n",
    "    "
   ]
  },
  {
   "cell_type": "code",
   "execution_count": 92,
   "id": "e6446407",
   "metadata": {},
   "outputs": [
    {
     "ename": "SyntaxError",
     "evalue": "invalid syntax (1455954068.py, line 1)",
     "output_type": "error",
     "traceback": [
      "\u001b[1;36m  Cell \u001b[1;32mIn[92], line 1\u001b[1;36m\u001b[0m\n\u001b[1;33m    if 3!>2:\u001b[0m\n\u001b[1;37m        ^\u001b[0m\n\u001b[1;31mSyntaxError\u001b[0m\u001b[1;31m:\u001b[0m invalid syntax\n"
     ]
    }
   ],
   "source": [
    "if 3!>2:\n",
    "    print('yes')\n",
    "elif 1>2:\n",
    "     print('2nd')\n",
    "else:\n",
    "    print('something wrong')\n",
    "            \n",
    "        "
   ]
  },
  {
   "cell_type": "code",
   "execution_count": 97,
   "id": "75fb457e",
   "metadata": {},
   "outputs": [
    {
     "name": "stdout",
     "output_type": "stream",
     "text": [
      "texas\n"
     ]
    }
   ],
   "source": [
    "person = {\n",
    "    \"name\": 'Rehan',\n",
    "    'age': 35,\n",
    "    'Address':{\n",
    "        'city':'houston',\n",
    "        'state':'texas',\n",
    "        'country':'usa'}\n",
    "    ,'car':'toyota'\n",
    "      }\n",
    "print(person['Address']['state'])"
   ]
  },
  {
   "cell_type": "code",
   "execution_count": 98,
   "id": "25df533d",
   "metadata": {},
   "outputs": [
    {
     "name": "stdout",
     "output_type": "stream",
     "text": [
      "1\n",
      "2\n",
      "3\n",
      "4\n"
     ]
    }
   ],
   "source": [
    "seq = [1,2,3,4]\n",
    "for i in seq:\n",
    "    print(i)"
   ]
  },
  {
   "cell_type": "code",
   "execution_count": null,
   "id": "5fb36850",
   "metadata": {},
   "outputs": [],
   "source": [
    "for variable in range:\n",
    "    #code block\n",
    "    \n",
    "while condition:\n",
    "    #code block"
   ]
  },
  {
   "cell_type": "code",
   "execution_count": 102,
   "id": "c564489e",
   "metadata": {},
   "outputs": [
    {
     "name": "stdout",
     "output_type": "stream",
     "text": [
      "1\n",
      "11\n",
      "21\n",
      "31\n",
      "41\n",
      "51\n",
      "61\n",
      "71\n",
      "81\n",
      "91\n"
     ]
    }
   ],
   "source": [
    "i=1\n",
    "while i < 100:\n",
    "    print(i)\n",
    "    i=i+10"
   ]
  },
  {
   "cell_type": "code",
   "execution_count": 106,
   "id": "ac822e23",
   "metadata": {},
   "outputs": [
    {
     "name": "stdout",
     "output_type": "stream",
     "text": [
      "I is: 1\n",
      "I is: 2\n",
      "I is: 3\n",
      "I is: 4\n"
     ]
    }
   ],
   "source": [
    "i = 1 \n",
    " \n",
    "while i <5:\n",
    "    print('i is: {}'.format(i))\n",
    "    i+=1"
   ]
  },
  {
   "cell_type": "code",
   "execution_count": 107,
   "id": "0f077010",
   "metadata": {},
   "outputs": [
    {
     "name": "stdout",
     "output_type": "stream",
     "text": [
      "1\n",
      "2\n",
      "3\n",
      "4\n"
     ]
    }
   ],
   "source": [
    "for x in seq:\n",
    "    print(x)"
   ]
  },
  {
   "cell_type": "code",
   "execution_count": 108,
   "id": "e39cef8a",
   "metadata": {},
   "outputs": [
    {
     "name": "stdout",
     "output_type": "stream",
     "text": [
      "1\n",
      "2\n",
      "3\n",
      "4\n"
     ]
    }
   ],
   "source": [
    "for x in range(1,5):\n",
    "    print(x)"
   ]
  },
  {
   "cell_type": "code",
   "execution_count": 109,
   "id": "6fe908cc",
   "metadata": {},
   "outputs": [
    {
     "data": {
      "text/plain": [
       "range(0, 5)"
      ]
     },
     "execution_count": 109,
     "metadata": {},
     "output_type": "execute_result"
    }
   ],
   "source": [
    "range(0,5)"
   ]
  },
  {
   "cell_type": "code",
   "execution_count": 116,
   "id": "bcde9464",
   "metadata": {},
   "outputs": [
    {
     "name": "stdout",
     "output_type": "stream",
     "text": [
      "4\n"
     ]
    }
   ],
   "source": [
    "x=list(range(5))\n",
    "out=  []\n",
    "for num in x:\n",
    "    out.append(num**2)\n",
    "print(num)\n"
   ]
  },
  {
   "cell_type": "code",
   "execution_count": 115,
   "id": "7f71cada",
   "metadata": {},
   "outputs": [
    {
     "data": {
      "text/plain": [
       "[0, 1, 4, 9, 16]"
      ]
     },
     "execution_count": 115,
     "metadata": {},
     "output_type": "execute_result"
    }
   ],
   "source": [
    "[item ** 2 for item in x]"
   ]
  },
  {
   "cell_type": "code",
   "execution_count": 117,
   "id": "8af91535",
   "metadata": {},
   "outputs": [
    {
     "name": "stdout",
     "output_type": "stream",
     "text": [
      "hello\n"
     ]
    }
   ],
   "source": [
    "def my_func(param1):\n",
    "    print(param1)\n",
    "my_func('hello')"
   ]
  },
  {
   "cell_type": "code",
   "execution_count": 119,
   "id": "910b50aa",
   "metadata": {},
   "outputs": [
    {
     "name": "stdout",
     "output_type": "stream",
     "text": [
      "parameter_name\n",
      "None\n"
     ]
    }
   ],
   "source": [
    "def function_name(parameter_name):\n",
    "    print(parameter_name)\n",
    "\n",
    "    \n",
    "print(function_name('parameter_name'))"
   ]
  },
  {
   "cell_type": "code",
   "execution_count": 130,
   "id": "00d1a884",
   "metadata": {},
   "outputs": [
    {
     "name": "stdout",
     "output_type": "stream",
     "text": [
      "Hello default\n"
     ]
    }
   ],
   "source": [
    "def function(name='default'): #can have a default value\n",
    "    print('Hello ' +name)\n",
    "\n",
    "function()"
   ]
  },
  {
   "cell_type": "code",
   "execution_count": 131,
   "id": "bf383555",
   "metadata": {},
   "outputs": [
    {
     "data": {
      "text/plain": [
       "4"
      ]
     },
     "execution_count": 131,
     "metadata": {},
     "output_type": "execute_result"
    }
   ],
   "source": [
    "def square(num):\n",
    "    return num**2\n",
    "\n",
    "output=square(2)\n",
    "output"
   ]
  },
  {
   "cell_type": "code",
   "execution_count": 133,
   "id": "7c26e782",
   "metadata": {},
   "outputs": [
    {
     "data": {
      "text/plain": [
       "8"
      ]
     },
     "execution_count": 133,
     "metadata": {},
     "output_type": "execute_result"
    }
   ],
   "source": [
    "def square(value): #function name(variable name)\n",
    "    return value+6 #the actual calculation gets placed here\n",
    "output=square(2) #square is name o function \n",
    "                    #when you do return .. you have to set variable to that function and\n",
    "                    #then you call that variable\n",
    "output"
   ]
  },
  {
   "cell_type": "code",
   "execution_count": 137,
   "id": "7822a261",
   "metadata": {},
   "outputs": [
    {
     "ename": "SyntaxError",
     "evalue": "'return' outside function (64714190.py, line 7)",
     "output_type": "error",
     "traceback": [
      "\u001b[1;36m  Cell \u001b[1;32mIn[137], line 7\u001b[1;36m\u001b[0m\n\u001b[1;33m    return value+6 #the actual calculation gets placed here\u001b[0m\n\u001b[1;37m    ^\u001b[0m\n\u001b[1;31mSyntaxError\u001b[0m\u001b[1;31m:\u001b[0m 'return' outside function\n"
     ]
    }
   ],
   "source": [
    "def square(value): #function name(variable name)\n",
    "   \"\"\"\n",
    "can have a multi line comment with three double quotes \n",
    "this makes it easy to type \n",
    "this is called documentaion string\"\"\"\n",
    "\n",
    "return value+6 #the actual calculation gets placed here\n",
    "\n",
    "output=square(2) #square is name o function \n",
    "                    #when you do return .. you have to set variable to that function and\n",
    "                    #then you call that variable\n",
    "output"
   ]
  },
  {
   "cell_type": "code",
   "execution_count": 139,
   "id": "63452c4d",
   "metadata": {},
   "outputs": [
    {
     "data": {
      "text/plain": [
       "4"
      ]
     },
     "execution_count": 139,
     "metadata": {},
     "output_type": "execute_result"
    }
   ],
   "source": [
    "#5:57PM Section 3 Part 4\n",
    "# lambda expressions\n",
    "\n",
    "def times2(var):\n",
    "    return var*2\n",
    "\n",
    "times2(2)"
   ]
  },
  {
   "cell_type": "code",
   "execution_count": 143,
   "id": "05454385",
   "metadata": {},
   "outputs": [
    {
     "data": {
      "text/plain": [
       "[2, 4, 6, 8, 10]"
      ]
     },
     "execution_count": 143,
     "metadata": {},
     "output_type": "execute_result"
    }
   ],
   "source": [
    "#map\n",
    "seq = [1,2,3,4,5]\n",
    "\n",
    "list(map(times2, seq))\n"
   ]
  },
  {
   "cell_type": "code",
   "execution_count": 145,
   "id": "77e436fa",
   "metadata": {},
   "outputs": [
    {
     "data": {
      "text/plain": [
       "12"
      ]
     },
     "execution_count": 145,
     "metadata": {},
     "output_type": "execute_result"
    }
   ],
   "source": [
    "t = lambda var:var*2\n",
    "t(6)"
   ]
  },
  {
   "cell_type": "code",
   "execution_count": 148,
   "id": "0c9ed2cf",
   "metadata": {},
   "outputs": [
    {
     "data": {
      "text/plain": [
       "[2, 4, 6, 8, 10]"
      ]
     },
     "execution_count": 148,
     "metadata": {},
     "output_type": "execute_result"
    }
   ],
   "source": [
    "list(map(lambda num: num*2, seq))"
   ]
  },
  {
   "cell_type": "code",
   "execution_count": 149,
   "id": "e7bfc4df",
   "metadata": {},
   "outputs": [
    {
     "data": {
      "text/plain": [
       "array([1, 7, 6, 4, 6, 8, 1, 4, 1, 3])"
      ]
     },
     "execution_count": 149,
     "metadata": {},
     "output_type": "execute_result"
    }
   ],
   "source": [
    "import numpy as np \n",
    "data = np.random.randint(1,10,10)\n"
   ]
  },
  {
   "cell_type": "code",
   "execution_count": 150,
   "id": "07cc3754",
   "metadata": {},
   "outputs": [
    {
     "data": {
      "text/plain": [
       "[3, 9, 8, 6, 8, 10, 3, 6, 3, 5]"
      ]
     },
     "execution_count": 150,
     "metadata": {},
     "output_type": "execute_result"
    }
   ],
   "source": [
    "t = list(map(lambda x:x+2, data))\n",
    "t\n"
   ]
  },
  {
   "cell_type": "code",
   "execution_count": 156,
   "id": "62fa7e72",
   "metadata": {},
   "outputs": [
    {
     "data": {
      "text/plain": [
       "[1, 3, 5]"
      ]
     },
     "execution_count": 156,
     "metadata": {},
     "output_type": "execute_result"
    }
   ],
   "source": [
    "seq = [1,2,3,4,5]\n",
    "list(filter(lambda num: num%2==1, seq)) num%2==1"
   ]
  },
  {
   "cell_type": "code",
   "execution_count": 157,
   "id": "5454f03d",
   "metadata": {},
   "outputs": [
    {
     "data": {
      "text/plain": [
       "'hello my name is sam'"
      ]
     },
     "execution_count": 157,
     "metadata": {},
     "output_type": "execute_result"
    }
   ],
   "source": [
    "s= 'hello my name is sam'\n",
    "s.lower()"
   ]
  },
  {
   "cell_type": "code",
   "execution_count": 159,
   "id": "f1a9b816",
   "metadata": {},
   "outputs": [
    {
     "name": "stdout",
     "output_type": "stream",
     "text": [
      "HELLO MY NAME IS SAM\n"
     ]
    }
   ],
   "source": [
    "s= 'hello my name is sam'\n",
    "print(s.upper())"
   ]
  },
  {
   "cell_type": "code",
   "execution_count": 160,
   "id": "1ce0a4c4",
   "metadata": {},
   "outputs": [
    {
     "data": {
      "text/plain": [
       "['hello', 'my', 'name', 'is', 'sam']"
      ]
     },
     "execution_count": 160,
     "metadata": {},
     "output_type": "execute_result"
    }
   ],
   "source": [
    "s.split()"
   ]
  },
  {
   "cell_type": "code",
   "execution_count": 187,
   "id": "98c5bed0",
   "metadata": {},
   "outputs": [
    {
     "data": {
      "text/plain": [
       "dict_items([('k1', 1), ('k2', 2)])"
      ]
     },
     "execution_count": 187,
     "metadata": {},
     "output_type": "execute_result"
    }
   ],
   "source": [
    "d={'k1':1,'k2':2}\n",
    "d.items()\n"
   ]
  },
  {
   "cell_type": "code",
   "execution_count": 193,
   "id": "15fb1013",
   "metadata": {},
   "outputs": [
    {
     "data": {
      "text/plain": [
       "3"
      ]
     },
     "execution_count": 193,
     "metadata": {},
     "output_type": "execute_result"
    }
   ],
   "source": [
    "list = [1,2,3]\n",
    "oi=list.pop()\n",
    "list\n",
    "oi"
   ]
  },
  {
   "cell_type": "code",
   "execution_count": 207,
   "id": "0b6dc995",
   "metadata": {},
   "outputs": [
    {
     "data": {
      "text/plain": [
       "[1, 2, 3, 5]"
      ]
     },
     "execution_count": 207,
     "metadata": {},
     "output_type": "execute_result"
    }
   ],
   "source": [
    "data = [1,2,3]\n",
    "data.append(5)\n",
    "data"
   ]
  },
  {
   "cell_type": "code",
   "execution_count": 208,
   "id": "73e84619",
   "metadata": {},
   "outputs": [
    {
     "data": {
      "text/plain": [
       "2"
      ]
     },
     "execution_count": 208,
     "metadata": {},
     "output_type": "execute_result"
    }
   ],
   "source": [
    "x=[(1,2),(3,4),(5,6)]\n",
    "x[0][1]"
   ]
  },
  {
   "cell_type": "code",
   "execution_count": 209,
   "id": "9a89b7cc",
   "metadata": {},
   "outputs": [
    {
     "name": "stdout",
     "output_type": "stream",
     "text": [
      "(1, 2)\n",
      "(3, 4)\n",
      "(5, 6)\n"
     ]
    }
   ],
   "source": [
    "for item in x:\n",
    "    print(item)"
   ]
  },
  {
   "cell_type": "code",
   "execution_count": 216,
   "id": "3ec0a730",
   "metadata": {},
   "outputs": [
    {
     "name": "stdout",
     "output_type": "stream",
     "text": [
      "1\n",
      "3\n",
      "5\n"
     ]
    }
   ],
   "source": [
    "for a,b in x:\n",
    "    print(a)"
   ]
  },
  {
   "cell_type": "code",
   "execution_count": 222,
   "id": "793d1c48",
   "metadata": {},
   "outputs": [],
   "source": [
    "#numpy 2/26 3:15PM\n",
    "import numpy as np \n",
    "s = np.array([1,2,3])\n",
    "s1 = np.random.randint(1,10,10).\n",
    "s\n",
    "s1"
   ]
  },
  {
   "cell_type": "code",
   "execution_count": 225,
   "id": "da9f8b43",
   "metadata": {},
   "outputs": [
    {
     "data": {
      "text/plain": [
       "array([1, 2, 3])"
      ]
     },
     "execution_count": 225,
     "metadata": {},
     "output_type": "execute_result"
    }
   ],
   "source": [
    "my_list=[1,2,3]\n",
    "arr = np.array(my_list)\n",
    "arr"
   ]
  },
  {
   "cell_type": "code",
   "execution_count": 226,
   "id": "6dc841a2",
   "metadata": {},
   "outputs": [
    {
     "data": {
      "text/plain": [
       "array([[1, 2, 3],\n",
       "       [4, 5, 6],\n",
       "       [7, 8, 9]])"
      ]
     },
     "execution_count": 226,
     "metadata": {},
     "output_type": "execute_result"
    }
   ],
   "source": [
    "my_mat = [[1,2,3],[4,5,6],[7,8,9]]\n",
    "np.array(my_mat)"
   ]
  },
  {
   "cell_type": "code",
   "execution_count": 227,
   "id": "b283eb03",
   "metadata": {},
   "outputs": [
    {
     "data": {
      "text/plain": [
       "array([1, 2, 3, 4, 5, 6, 7, 8, 9])"
      ]
     },
     "execution_count": 227,
     "metadata": {},
     "output_type": "execute_result"
    }
   ],
   "source": [
    "np.arange(1,10,1)\n"
   ]
  },
  {
   "cell_type": "code",
   "execution_count": 233,
   "id": "90d1d3af",
   "metadata": {},
   "outputs": [
    {
     "data": {
      "text/plain": [
       "array([0.  , 1.25, 2.5 , 3.75, 5.  ])"
      ]
     },
     "execution_count": 233,
     "metadata": {},
     "output_type": "execute_result"
    }
   ],
   "source": [
    "np.linspace(0,5,num=5)"
   ]
  }
 ],
 "metadata": {
  "kernelspec": {
   "display_name": "Python 3 (ipykernel)",
   "language": "python",
   "name": "python3"
  },
  "language_info": {
   "codemirror_mode": {
    "name": "ipython",
    "version": 3
   },
   "file_extension": ".py",
   "mimetype": "text/x-python",
   "name": "python",
   "nbconvert_exporter": "python",
   "pygments_lexer": "ipython3",
   "version": "3.10.1"
  }
 },
 "nbformat": 4,
 "nbformat_minor": 5
}
