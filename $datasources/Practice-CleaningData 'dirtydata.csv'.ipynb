{
 "cells": [
  {
   "cell_type": "code",
   "execution_count": 42,
   "id": "26efde2f",
   "metadata": {},
   "outputs": [
    {
     "name": "stdout",
     "output_type": "stream",
     "text": [
      "    Duration       Date  Pulse  Maxpulse  Calories\n",
      "0         60 2020-12-01    110       130       409\n",
      "1         60 2020-12-02    117       145       479\n",
      "2         60 2020-12-03    103       135       340\n",
      "3         45 2020-12-04    109       175       282\n",
      "4         45 2020-12-05    117       148       406\n",
      "5         60 2020-12-06    102       127       300\n",
      "6         60 2020-12-07    110       136       374\n",
      "7         66 2020-12-08    104       134       253\n",
      "8         30 2020-12-09    109       133       195\n",
      "9         60 2020-12-10     98       124       269\n",
      "10        60 2020-12-11    103       147       329\n",
      "11        60 2020-12-12    100       120       250\n",
      "13        60 2020-12-13    106       128       345\n",
      "14        60 2020-12-14    104       132       379\n",
      "15        60 2020-12-15     98       123       275\n",
      "16        60 2020-12-16     98       120       215\n",
      "17        60 2020-12-17    100       120       300\n",
      "18        45 2020-12-18     90       112       323\n",
      "19        60 2020-12-19    103       123       323\n",
      "20        45 2020-12-20     97       125       243\n",
      "21        60 2020-12-21    108       131       364\n",
      "23        60 2020-12-23    130       101       300\n",
      "24        45 2020-12-24    105       132       246\n",
      "25        60 2020-12-25    102       126       334\n",
      "26        60 2020-12-26    100       120       250\n",
      "27        60 2020-12-27     92       118       241\n",
      "28        60 2020-12-28    103       132       280\n",
      "29        60 2020-12-29    100       132       280\n",
      "30        60 2020-12-30    102       129       380\n",
      "31        60 2020-12-31     92       115       243\n",
      "30\n"
     ]
    }
   ],
   "source": [
    "#355 2/25\n",
    "import pandas as pd \n",
    "data = pd.read_csv('dirtydata.csv')\n",
    " \n",
    "\n",
    "data['Date']=pd.to_datetime(data['Date'])\n",
    " \n",
    "data = data.dropna(subset=['Date'])\n",
    "data['Duration']=data['Duration'].replace(450,66)\n",
    "data['Calories']=data['Calories'].fillna(method='bfill')\n",
    "\n",
    "data['Calories']=data['Calories'].astype('int') \n",
    "\n",
    "data = data.drop_duplicates(subset=['Date'])\n",
    "print(data.sort_values(by='Date'))\n",
    " \n",
    "\n",
    "data.to_csv('cleaneddata.csv', index=False)"
   ]
  },
  {
   "cell_type": "code",
   "execution_count": 44,
   "id": "67559854",
   "metadata": {},
   "outputs": [
    {
     "name": "stdout",
     "output_type": "stream",
     "text": [
      "30\n",
      "30\n"
     ]
    }
   ],
   "source": [
    "print(data.value_counts().sum())\n",
    "print(len(data)) #number of rows"
   ]
  },
  {
   "cell_type": "code",
   "execution_count": null,
   "id": "96230c06",
   "metadata": {},
   "outputs": [],
   "source": []
  }
 ],
 "metadata": {
  "kernelspec": {
   "display_name": "Python 3 (ipykernel)",
   "language": "python",
   "name": "python3"
  },
  "language_info": {
   "codemirror_mode": {
    "name": "ipython",
    "version": 3
   },
   "file_extension": ".py",
   "mimetype": "text/x-python",
   "name": "python",
   "nbconvert_exporter": "python",
   "pygments_lexer": "ipython3",
   "version": "3.10.1"
  }
 },
 "nbformat": 4,
 "nbformat_minor": 5
}
