{
 "cells": [
  {
   "cell_type": "code",
   "execution_count": 28,
   "id": "efd639dc",
   "metadata": {},
   "outputs": [
    {
     "name": "stdout",
     "output_type": "stream",
     "text": [
      "   sale_id  car_make\n",
      "0        1      Ford\n",
      "1        2      Toyo\n",
      "2        3  Mercedes\n",
      "3        4      Toyo\n",
      "4        5  Mercedes\n",
      "5        6      Toyo\n",
      "6        7      Toyo\n",
      "7        8      Ford\n",
      "8        9       BMW\n",
      "9       10       BMW\n"
     ]
    }
   ],
   "source": [
    "import pandas as pd \n",
    "data=pd.read_csv('sales_data.csv')\n",
    "data=data.head(10)\n",
    "condition=data['car_make']=='Toyota'\n",
    "data.loc[condition,'car_make']='Toyo'\n",
    "\n",
    "data.loc[condition, 'column_name']='replace valued'\n",
    "\n",
    "print(data[['sale_id','car_make']])\n"
   ]
  },
  {
   "cell_type": "code",
   "execution_count": null,
   "id": "1c55033e",
   "metadata": {},
   "outputs": [],
   "source": [
    "#array is numpy datatype \n",
    "import numpy as np\n",
    "list = [10,20,30]   #list is comma separated values\n",
    "#array is located contingous memory\n",
    "array =[10 20 30] \n",
    "\n",
    "#they stay together ... they store where there is 3 empty spaces\n",
    "#array uses less memory , have to be same datatype, ease to perform math in\n"
   ]
  },
  {
   "cell_type": "code",
   "execution_count": 37,
   "id": "8d02325d",
   "metadata": {},
   "outputs": [
    {
     "name": "stdout",
     "output_type": "stream",
     "text": [
      "[20 30 40]\n",
      "[4]\n",
      "[24 34 44]\n"
     ]
    }
   ],
   "source": [
    "import pandas as pd \n",
    "import numpy as np\n",
    "\n",
    "a= np.array([20,30,40])\n",
    "b= np.array([4])\n",
    "\n",
    "print(a) #not comma separated values\n",
    "print (b)\n",
    "\n",
    "print(a+b)"
   ]
  },
  {
   "cell_type": "code",
   "execution_count": 43,
   "id": "46708079",
   "metadata": {},
   "outputs": [
    {
     "name": "stdout",
     "output_type": "stream",
     "text": [
      "[[40 50 60]\n",
      " [50 30 50]]\n"
     ]
    }
   ],
   "source": [
    "a=np.array([[40,50,60],[50,30,50]])  #only one data type \n",
    "print(a)"
   ]
  },
  {
   "cell_type": "code",
   "execution_count": 55,
   "id": "f71136ac",
   "metadata": {},
   "outputs": [
    {
     "name": "stdout",
     "output_type": "stream",
     "text": [
      "[[10 20 30 40]\n",
      " [50 60 70 80]\n",
      " [20 40 50 60]]\n"
     ]
    },
    {
     "ename": "NameError",
     "evalue": "name 'describe' is not defined",
     "output_type": "error",
     "traceback": [
      "\u001b[1;31m---------------------------------------------------------------------------\u001b[0m",
      "\u001b[1;31mNameError\u001b[0m                                 Traceback (most recent call last)",
      "Cell \u001b[1;32mIn[55], line 5\u001b[0m\n\u001b[0;32m      2\u001b[0m arr\u001b[38;5;241m=\u001b[39mnp\u001b[38;5;241m.\u001b[39marray([[\u001b[38;5;241m10\u001b[39m,\u001b[38;5;241m20\u001b[39m,\u001b[38;5;241m30\u001b[39m,\u001b[38;5;241m40\u001b[39m],[\u001b[38;5;241m50\u001b[39m,\u001b[38;5;241m60\u001b[39m,\u001b[38;5;241m70\u001b[39m,\u001b[38;5;241m80\u001b[39m],[\u001b[38;5;241m20\u001b[39m,\u001b[38;5;241m40\u001b[39m,\u001b[38;5;241m50\u001b[39m,\u001b[38;5;241m60\u001b[39m]]) \u001b[38;5;66;03m#this is  called matrices\u001b[39;00m\n\u001b[0;32m      3\u001b[0m \u001b[38;5;28mprint\u001b[39m(arr)\n\u001b[1;32m----> 5\u001b[0m \u001b[38;5;28mprint\u001b[39m(\u001b[43mdescribe\u001b[49m(arr))\n",
      "\u001b[1;31mNameError\u001b[0m: name 'describe' is not defined"
     ]
    }
   ],
   "source": [
    "import numpy as np \n",
    "arr=np.array([[10,20,30,40],[50,60,70,80],[20,40,50,60]]) #this is  called matrices\n",
    "print(arr)\n",
    "\n",
    "print(arr[0:3])"
   ]
  },
  {
   "cell_type": "code",
   "execution_count": 80,
   "id": "13d880d2",
   "metadata": {},
   "outputs": [
    {
     "name": "stdout",
     "output_type": "stream",
     "text": [
      "50\n"
     ]
    }
   ],
   "source": [
    "import numpy as np \n",
    "arr=np.array([[10,20,30,40],[40,50,60,70],[20,40,50,70]]) #this is  called matrices\n",
    "\n",
    "\n",
    "print(arr[2,2])"
   ]
  },
  {
   "cell_type": "code",
   "execution_count": 5,
   "id": "68d74ad9",
   "metadata": {},
   "outputs": [
    {
     "name": "stdout",
     "output_type": "stream",
     "text": [
      "[[10 20 30 40]\n",
      " [40 50 60 70]\n",
      " [20 40 50 70]]\n",
      "(3, 4)\n",
      "12\n",
      "2\n",
      "int32\n",
      "[[10 20 30 40]\n",
      " [40 50 60 70]\n",
      " [20 40 50 70]]\n",
      "(3, 4)\n",
      "12\n",
      "2\n"
     ]
    }
   ],
   "source": [
    "import numpy as np \n",
    "arr=np.array([[10,20,30,40],[40,50,60,70],[20,40,50,70]]) #this is  called matrices\n",
    "\n",
    "print(arr)\n",
    "print(np.shape(arr)) #this tells you size of output 3 rows 4 columns\n",
    "print(np.size(arr)) #counts the number of elements  , # of elements\n",
    "print(np.ndim(arr)) # tells you have two dimensions, number of commas separated matrices?\n",
    "print (arr.dtype) #teslls you type of value\n",
    "\n",
    "print(arr)\n",
    "print(arr.shape)\n",
    "print(arr.size)\n",
    "print(arr.ndim)\n",
    " \n",
    " \n",
    " "
   ]
  },
  {
   "cell_type": "code",
   "execution_count": 113,
   "id": "2ca95b3b",
   "metadata": {},
   "outputs": [
    {
     "name": "stdout",
     "output_type": "stream",
     "text": [
      "[[10. 20. 30. 40.]\n",
      " [40. 50. 60. 70.]\n",
      " [20. 40. 50. 70.]]\n",
      "12\n",
      "12\n"
     ]
    }
   ],
   "source": [
    "import numpy as np \n",
    "arr=np.array([[10,20,30,40],[40,50,60,70],[20,40,50,70]]) #this is  called matrices\n",
    "\n",
    "print(arr.astype(float)) #converts the datatype of array\n",
    "print(arr.size)\n",
    "print(np.size(arr))"
   ]
  },
  {
   "cell_type": "code",
   "execution_count": null,
   "id": "a3536939",
   "metadata": {},
   "outputs": [],
   "source": []
  },
  {
   "cell_type": "code",
   "execution_count": null,
   "id": "5eff5690",
   "metadata": {},
   "outputs": [],
   "source": []
  },
  {
   "cell_type": "code",
   "execution_count": null,
   "id": "6eabf482",
   "metadata": {},
   "outputs": [],
   "source": [
    "Some common attributes of pandas columns (Series) include:\n",
    "\n",
    "    .dtype → Data type of the column\n",
    "    .shape → Tuple with (number of rows,)\n",
    "    .size → Total number of elements\n",
    "    .index → Index labels\n",
    "    .name → Name of the column\n",
    "    .values → Underlying NumPy array\n",
    "    .nunique() → Number of unique values"
   ]
  },
  {
   "cell_type": "code",
   "execution_count": null,
   "id": "fc511a72",
   "metadata": {},
   "outputs": [],
   "source": []
  },
  {
   "cell_type": "code",
   "execution_count": null,
   "id": "2bbe4065",
   "metadata": {},
   "outputs": [],
   "source": []
  },
  {
   "cell_type": "code",
   "execution_count": 122,
   "id": "4bf2f960",
   "metadata": {},
   "outputs": [
    {
     "name": "stdout",
     "output_type": "stream",
     "text": [
      "(3, 2)\n",
      "(3, 2)\n",
      "int32\n",
      "<class 'numpy.ndarray'>\n",
      "[[0. 2.]\n",
      " [4. 6.]\n",
      " [6. 2.]]\n"
     ]
    }
   ],
   "source": [
    "#inspecting an array \n",
    "import numpy as np\n",
    "arr = np.array([[0,2],[4,6],[6,2]])\n",
    "\n",
    "print(np.shape(arr))\n",
    "print(arr.shape)\n",
    "\n",
    "print(arr.dtype) #tells you its int32\n",
    "print(type(arr)) #tells you its as array \n",
    "print(arr.astype(float)) #converts the number to float\n",
    "\n",
    "\n",
    "# Both np.shape(arr) and arr.shape give the same result because:\n",
    "\n",
    "# np.shape(arr) is a function that returns the shape of the array.\n",
    "# arr.shape is an attribute of the array that directly stores its shape."
   ]
  },
  {
   "cell_type": "code",
   "execution_count": 139,
   "id": "667afd84",
   "metadata": {},
   "outputs": [
    {
     "name": "stdout",
     "output_type": "stream",
     "text": [
      "[[ 20  40]\n",
      " [ 80 100]]\n",
      "[[ 20  40]\n",
      " [ 80 100]]\n",
      "[[0 0]\n",
      " [0 0]]\n",
      "[[0 0]\n",
      " [0 0]]\n",
      "[[ 100  400]\n",
      " [1600 2500]]\n",
      "[[ 100  400]\n",
      " [1600 2500]]\n",
      "[[1410065408          0]\n",
      " [         0          0]]\n"
     ]
    }
   ],
   "source": [
    "#mathemetical aoperations \n",
    "\n",
    "import numpy as np \n",
    "data1 = np.array([[10,20],[40,50]])\n",
    "data2= np.array([[10,20],[40,50]])\n",
    "\n",
    "print(data1+data2)\n",
    "print(np.add(data1,data2))\n",
    "\n",
    "print(data1-data2)\n",
    "print(np.subtract(data1,data2))\n",
    "\n",
    "print(data1*data2)\n",
    "print(np.multiply(data1,data2))"
   ]
  },
  {
   "cell_type": "code",
   "execution_count": 141,
   "id": "f6aca4aa",
   "metadata": {},
   "outputs": [
    {
     "name": "stdout",
     "output_type": "stream",
     "text": [
      "[ 1  4  9 16]\n"
     ]
    }
   ],
   "source": [
    "import numpy as np \n",
    "arr  = np.array([1,2,3,4])\n",
    "arr2 = np.array([2])\n",
    "\n",
    "print(np.power(arr,arr2))"
   ]
  },
  {
   "cell_type": "code",
   "execution_count": 145,
   "id": "b72ddce2",
   "metadata": {},
   "outputs": [
    {
     "name": "stdout",
     "output_type": "stream",
     "text": [
      "[1 2 3 4]\n"
     ]
    }
   ],
   "source": [
    "import numpy as np \n",
    "arr  = np.array([1,4,9,16])\n",
    "arr2 = np.array([2])\n",
    "print(np.sqrt(arr).astype(int))\n"
   ]
  },
  {
   "cell_type": "code",
   "execution_count": 146,
   "id": "991b2403",
   "metadata": {},
   "outputs": [
    {
     "name": "stdout",
     "output_type": "stream",
     "text": [
      "[10, 20, 30, 5, 5, 3]\n"
     ]
    }
   ],
   "source": [
    "#combining and splitting arrays \n",
    "#46:16\n",
    "a=[10,20,30]\n",
    "b=[5,5,3]\n",
    "\n",
    "print(a+b)\n"
   ]
  },
  {
   "cell_type": "code",
   "execution_count": 149,
   "id": "9c028b8a",
   "metadata": {},
   "outputs": [
    {
     "name": "stdout",
     "output_type": "stream",
     "text": [
      "[10 20 30] [5 5 3]\n",
      "[15 25 33]\n",
      "[15 25 33]\n"
     ]
    }
   ],
   "source": [
    "import numpy as np\n",
    "a=[10,20,30]\n",
    "b=[5,5,3]\n",
    "a=np.array(a)\n",
    "b=np.array(b)\n",
    "print(a,b)\n",
    "print(np.add(a,b))\n",
    "print(a+b)"
   ]
  },
  {
   "cell_type": "code",
   "execution_count": 153,
   "id": "ac3ec904",
   "metadata": {},
   "outputs": [
    {
     "name": "stdout",
     "output_type": "stream",
     "text": [
      "[30 40 50  5  5  6]\n"
     ]
    }
   ],
   "source": [
    "#Concatenate \n",
    "import numpy as np\n",
    "arr1=np.array([30,40,50])\n",
    "arr2=np.array([5,5,6])\n",
    "\n",
    "print(np.concatenate([arr1,arr2]))\n"
   ]
  },
  {
   "cell_type": "code",
   "execution_count": 176,
   "id": "34280150",
   "metadata": {},
   "outputs": [
    {
     "name": "stdout",
     "output_type": "stream",
     "text": [
      "[[2 2 2 2]\n",
      " [3 3 3 3]]\n",
      "[[2 2 2 2]\n",
      " [3 3 3 3]]\n"
     ]
    }
   ],
   "source": [
    "#Concatenate \n",
    "import numpy as np\n",
    "arr1=np.array([[2,2],[3,3]])\n",
    "arr2=np.array([[2,2],[3,3]])\n",
    "\n",
    "print(np.concatenate([arr1, arr2], axis=1))\n",
    "print(np.hstack([arr1,arr2]))   #horizontal concatenation \n"
   ]
  },
  {
   "cell_type": "code",
   "execution_count": 182,
   "id": "2946d649",
   "metadata": {},
   "outputs": [
    {
     "name": "stdout",
     "output_type": "stream",
     "text": [
      "[[2 2]\n",
      " [3 3]\n",
      " [2 2]\n",
      " [3 3]]\n",
      "[[2 2]\n",
      " [3 3]\n",
      " [2 2]\n",
      " [3 3]]\n",
      "(2, 2)\n",
      "(2, 2)\n"
     ]
    }
   ],
   "source": [
    "#Concatenate \n",
    "import numpy as np\n",
    "arr1=np.array([[2,2],[3,3]])\n",
    "arr2=np.array([[2,2],[3,3]])\n",
    "\n",
    "print(np.concatenate([arr1, arr2], axis=0))\n",
    "print(np.vstack([arr1,arr2]))   #vertical concatenation \n",
    "\n",
    "print(np.shape(arr1))\n",
    "print(arr1.shape)"
   ]
  },
  {
   "cell_type": "code",
   "execution_count": 201,
   "id": "1e16a38d",
   "metadata": {},
   "outputs": [
    {
     "name": "stdout",
     "output_type": "stream",
     "text": [
      "[3 3]\n"
     ]
    }
   ],
   "source": [
    "import numpy as np\n",
    "\n",
    "a=np.array([2,2,3,3,4,4])\n",
    " \n",
    "b= np.array_split(a,3)\n",
    "print(b[1]) # this splits array into 3 parts and give you the 1st part . 0 , 1 , 2\n"
   ]
  },
  {
   "cell_type": "code",
   "execution_count": null,
   "id": "1d3b9872",
   "metadata": {},
   "outputs": [],
   "source": [
    "import numpy as np\n",
    "\n",
    "a=np.array([2,2,3,3,4,4])\n",
    " \n",
    "b= np.array_split(a,3)\n",
    "print(b[1]) # this splits array into 3 parts and give you the 1st part . 0 , 1 , 2\n"
   ]
  },
  {
   "cell_type": "code",
   "execution_count": 209,
   "id": "0ff4265c",
   "metadata": {},
   "outputs": [
    {
     "name": "stdout",
     "output_type": "stream",
     "text": [
      "[[2 2]\n",
      " [3 3]]\n",
      "[2 2 3 3 2 2 3 3]\n",
      "[2 5 2 3 3]\n",
      "[2 3 3]\n"
     ]
    }
   ],
   "source": [
    "import numpy as np\n",
    "a=np.array([[2,2],[3,3]])\n",
    "b=np.array([[2,2],[3,3]])\n",
    "\n",
    "print(a )\n",
    "print(np.append(a,b)) #appends into array\n",
    "print(np.insert(a,1,5)) #inserts into array\n",
    "print(np.delete(a,[1]))  #deletes from array"
   ]
  },
  {
   "cell_type": "code",
   "execution_count": 214,
   "id": "b31c74d5",
   "metadata": {},
   "outputs": [
    {
     "name": "stdout",
     "output_type": "stream",
     "text": [
      "[20 40 60 80 90]\n",
      "[ 20  40  60  80  90 100]\n"
     ]
    }
   ],
   "source": [
    "import numpy as np \n",
    "\n",
    "a=np.array([20,40,60,80])\n",
    "print(np.append(a,90))\n",
    "print(np.append(a,[90,100])) #turns into one dimension and inserts the values"
   ]
  },
  {
   "cell_type": "code",
   "execution_count": 215,
   "id": "a94497aa",
   "metadata": {},
   "outputs": [
    {
     "name": "stdout",
     "output_type": "stream",
     "text": [
      "[20 40 40 60 80]\n",
      "[20 30 40 60 80]\n"
     ]
    }
   ],
   "source": [
    "import numpy as np \n",
    "\n",
    "a=np.array([20,40,60,80])\n",
    "print(np.insert(a,1,40))  #this appends [data, index where it will be insert, inserted value]\n",
    "\n",
    "print(np.insert(a,1,30)) #array,index,value"
   ]
  },
  {
   "cell_type": "code",
   "execution_count": 225,
   "id": "f041e746",
   "metadata": {},
   "outputs": [
    {
     "name": "stdout",
     "output_type": "stream",
     "text": [
      "[[20 40]\n",
      " [60 80]]\n",
      "\n",
      "[[20 40]\n",
      " [30 60]\n",
      " [60 80]]\n",
      "\n",
      "[[20 30 40]\n",
      " [60 60 80]]\n",
      "\n",
      "[[20 40]\n",
      " [30 60]\n",
      " [60 80]\n",
      " [30 60]]\n"
     ]
    }
   ],
   "source": [
    "import numpy as np \n",
    "\n",
    "a=np.array([[20,40],[60,80]])\n",
    "print(a)\n",
    "print()\n",
    "print(np.insert(a,1,[30,60], axis=0)) #array,index,value #inserts in i1st axis\n",
    "print()\n",
    "print(np.insert(a,1,[30,60], axis=1)) #array,index,value #inserts in i1st axis\n",
    "print()\n",
    "print(np.insert(a,[1,2],[30,60], axis=0)) #array,index,value #inserts in i1st axis"
   ]
  },
  {
   "cell_type": "code",
   "execution_count": 226,
   "id": "053930b2",
   "metadata": {},
   "outputs": [
    {
     "name": "stdout",
     "output_type": "stream",
     "text": [
      "[20 60 80]\n"
     ]
    }
   ],
   "source": [
    "import numpy as np \n",
    "\n",
    "a=np.array([[20,40],[60,80]])\n",
    "\n",
    "print(np.delete(a,1)) #it becomes 1d and then deletes 1st value\n",
    "\n"
   ]
  },
  {
   "cell_type": "code",
   "execution_count": 240,
   "id": "eb8e9650",
   "metadata": {},
   "outputs": [
    {
     "name": "stdout",
     "output_type": "stream",
     "text": [
      "[[20 40]\n",
      " [60 80]]\n",
      "\n",
      "[20 60 80]\n",
      "\n",
      "[[20 40]]\n",
      "\n",
      "[[60 80]]\n",
      "\n",
      "[[40]\n",
      " [80]]\n",
      "\n",
      "[[20]\n",
      " [60]]\n"
     ]
    }
   ],
   "source": [
    "import numpy as np \n",
    "\n",
    "a=np.array([[20,40],[60,80]])\n",
    "print(a)\n",
    "print()\n",
    "print(np.delete(a,1 )) #it becomes 1d and then deletes 1st value on the column way\n",
    "print()\n",
    "print(np.delete(a,1, axis=0)) #says row wise .. delete 2nd row\n",
    "print()\n",
    "print(np.delete(a,0, axis=0)) #row wise ..delete 1st row\n",
    "print()\n",
    "#this will delete 1st index \n",
    "print(np.delete(a,0, axis=1)) #column wise , delete 1st row\n",
    "print()\n",
    "\n",
    "print(np.delete(a,1, axis=1)) #column wise , delete 2nd row\n",
    " "
   ]
  },
  {
   "cell_type": "code",
   "execution_count": 242,
   "id": "8ecb6372",
   "metadata": {},
   "outputs": [
    {
     "name": "stdout",
     "output_type": "stream",
     "text": [
      "[[2 5 6 7 8]\n",
      " [1 2 3 5 8]]\n"
     ]
    }
   ],
   "source": [
    "#sort \n",
    "import numpy as np\n",
    "\n",
    "ar = np.array([[2,5,6,8,7],[2,8,5,1,3]])\n",
    "print(np.sort(ar))"
   ]
  },
  {
   "cell_type": "code",
   "execution_count": 254,
   "id": "cc45db5c",
   "metadata": {},
   "outputs": [
    {
     "name": "stdout",
     "output_type": "stream",
     "text": [
      "[2 5 6 8 7 2 8 5 1 3 2 5 6 8 7 2 8 5 1 3]\n",
      "[1 1 2 2 2 2 3 3 5 5 5 5 6 6 7 7 8 8 8 8]\n"
     ]
    }
   ],
   "source": [
    "#sort \n",
    "import numpy as np\n",
    "\n",
    "ar = np.array([[2,5,6,8,7],[2,8,5,1,3]])\n",
    "sr = np.array([[2,5,6,8,7],[2,8,5,1,3]])\n",
    "\n",
    "con = np.concatenate((ar.flatten(), sr.flatten()), axis=0)\n",
    "print(con)\n",
    "\n",
    "print(np.sort(con))"
   ]
  },
  {
   "cell_type": "code",
   "execution_count": 259,
   "id": "fc1b8e75",
   "metadata": {},
   "outputs": [
    {
     "name": "stdout",
     "output_type": "stream",
     "text": [
      "(array([1, 4], dtype=int64),)\n"
     ]
    }
   ],
   "source": [
    "ar = np.array([3,4,1,7,8])\n",
    " \n",
    "s = np.where(ar % 2 == 0 ) \n",
    "print(s)"
   ]
  },
  {
   "cell_type": "code",
   "execution_count": 260,
   "id": "e4520d0c",
   "metadata": {},
   "outputs": [
    {
     "name": "stdout",
     "output_type": "stream",
     "text": [
      "(array([1], dtype=int64),)\n"
     ]
    }
   ],
   "source": [
    "ar = np.array([3,4,1,7,8])\n",
    " \n",
    "s = np.where(ar == 4) #this looks up where the value is 4 and prints the array. answer is 1\n",
    "print(s)"
   ]
  },
  {
   "cell_type": "code",
   "execution_count": 272,
   "id": "a3100d81",
   "metadata": {},
   "outputs": [
    {
     "name": "stdout",
     "output_type": "stream",
     "text": [
      "(array([0, 2], dtype=int64),)\n",
      "(array([0, 2], dtype=int64),)\n",
      "(array([1, 3], dtype=int64),)\n",
      "(array([], dtype=int64),)\n"
     ]
    }
   ],
   "source": [
    "import numpy as np \n",
    "data = np.array([1,2,3,4])\n",
    "a= np.where (data % 2 == 1)\n",
    "b= np.where (data % 2)\n",
    "print(a)\n",
    "print(b)\n",
    "\n",
    "# Even Numbers: Remember that even numbers give a remainder of 0 when divided by 2.\n",
    "#     Think of it as \"divisible by 2\" → data % 2 == 0.\n",
    "# Odd Numbers: Odd numbers give a remainder of 1 when divided by 2. \n",
    "#     Think of it as \"not divisible by 2\" → data % 2 == 1.\n",
    "c= np.where (data % 2 == 0)\n",
    "d= np.where (data % 1)\n",
    "print(c)\n",
    "print(d)\n",
    "\n",
    "# Even Numbers: Remember that even numbers give a remainder of 0 when divided by 2.\n",
    "#     Think of it as \"divisible by 2\" → data % 2 == 0.\n",
    "# Odd Numbers: Odd numbers give a remainder of 1 when divided by 2. \n",
    "#     Think of it as \"not divisible by 2\" → data % 2 == 1."
   ]
  },
  {
   "cell_type": "code",
   "execution_count": 273,
   "id": "a7521b70",
   "metadata": {},
   "outputs": [
    {
     "name": "stdout",
     "output_type": "stream",
     "text": [
      "1\n"
     ]
    }
   ],
   "source": [
    "ar = np.array([1,2,3,4,5])\n",
    "ss= np.searchsorted(ar,2) #(array,'value being searched')\n",
    "                        #the answer is 1 and 2 falls under 1st index\n",
    "print(ss)"
   ]
  },
  {
   "cell_type": "code",
   "execution_count": 275,
   "id": "499bc727",
   "metadata": {},
   "outputs": [
    {
     "name": "stdout",
     "output_type": "stream",
     "text": [
      "[20]\n"
     ]
    }
   ],
   "source": [
    "import numpy as np \n",
    "ar=np.array([20,30,40,50])\n",
    "fa = [True, False, False, False]\n",
    "new=ar[fa]\n",
    "print(new)"
   ]
  },
  {
   "cell_type": "code",
   "execution_count": 280,
   "id": "286022ca",
   "metadata": {},
   "outputs": [
    {
     "name": "stdout",
     "output_type": "stream",
     "text": [
      "[45]\n"
     ]
    }
   ],
   "source": [
    "import numpy as np \n",
    "ar=np.array([20,30,45,50])\n",
    "fa= ar%2==1\n",
    "new=ar[fa]\n",
    "print(new)"
   ]
  },
  {
   "cell_type": "code",
   "execution_count": 289,
   "id": "6b84dc57",
   "metadata": {},
   "outputs": [
    {
     "name": "stdout",
     "output_type": "stream",
     "text": [
      "200\n",
      "80\n",
      "20\n",
      "4\n",
      "50.0\n",
      "[ 20  60 120 200]\n",
      "[     20     800   48000 3840000]\n"
     ]
    }
   ],
   "source": [
    "#aggregating functions in numpy\n",
    "#1:11:11\n",
    "\n",
    "import numpy as np \n",
    "a = np.array([20,40,60,80])\n",
    "print(np.sum(a))\n",
    "print(np.max(a))\n",
    "print(np.min(a))\n",
    "print(np.size(a)) # if you want to count ... you cna use size \n",
    "print(np.mean(a)) #get mean\n",
    "print(np.cumsum(a)) #counts 1st to another \n",
    "print(np.cumprod(a))"
   ]
  },
  {
   "cell_type": "code",
   "execution_count": 315,
   "id": "06ae4c51",
   "metadata": {},
   "outputs": [
    {
     "name": "stdout",
     "output_type": "stream",
     "text": [
      "[20 40 60 80] \n",
      " [10  5  3  5]\n",
      "[[ 20  40  60  80]\n",
      " [200 200 180 400]]\n",
      "980\n",
      "960\n"
     ]
    }
   ],
   "source": [
    "import numpy as np \n",
    "a = np.array([20,40,60,80])\n",
    "b = np.array([10,5,3,5])\n",
    "\n",
    "price = np.array(a)\n",
    "quantity  = np.array(b)\n",
    "\n",
    "print(price, \"\\n\", quantity)\n",
    "\n",
    "var = (np.cumprod([price,quantity], axis =0)) #this is getting sum of bottom row\n",
    "bar = (np.cumprod([price,quantity], axis =1))\n",
    "car = (np.cumprod([price,quantity], axis=0)) #this is multiplying a with b \n",
    "\n",
    "print(car)\n",
    "\n",
    "print(var[1].sum())\n",
    "print(bar[1].sum())"
   ]
  },
  {
   "cell_type": "code",
   "execution_count": 338,
   "id": "fd773e6f",
   "metadata": {},
   "outputs": [
    {
     "name": "stdout",
     "output_type": "stream",
     "text": [
      "194.66666666666666\n",
      "194.0\n",
      "[130 150 188 200 200 300]\n",
      "194.0\n"
     ]
    }
   ],
   "source": [
    "#statistical functions in numpy\n",
    "#1:21:42\n",
    "\n",
    "import numpy as np \n",
    "\n",
    "baked_food = [200,300,150,130,200,188] #carb content\n",
    "\n",
    "a=np.array(baked_food)\n",
    "print(np.mean(baked_food)) #sum of all/ divide number of value \n",
    "print(np.median(baked_food)) #middle value\n",
    "a=  (np.sort(baked_food))\n",
    "print(a)\n",
    "print(a[2:4].sum()/2)\n",
    "\n",
    "\n",
    "##calculating manually"
   ]
  },
  {
   "cell_type": "code",
   "execution_count": 347,
   "id": "c17ef690",
   "metadata": {},
   "outputs": [
    {
     "name": "stdout",
     "output_type": "stream",
     "text": [
      "194.66666666666666\n",
      "194.0\n",
      "200\n",
      "53.810366617925546\n",
      "2895.555555555556\n",
      "2895.5161000000003\n"
     ]
    }
   ],
   "source": [
    "\n",
    "import numpy as np\n",
    "import statistics as stats\n",
    "\n",
    "baked_food = [200,300,150,130,200,188] #carb content\n",
    "\n",
    "a=np.array(baked_food)\n",
    "print(np.mean(baked_food)) #sum of all/ divide number of value \n",
    "print(np.median(baked_food)) #sum of all/ divide number of value \n",
    "print(stats.mode(baked_food))  #since no mode in numpy we will load statistics library\n",
    "\n",
    "print(np.std(baked_food)) #standard deviation.. data average value from mean is not far\n",
    "#if its too far from each other then that means too much fluctuations \n",
    "\n",
    "print(np.var(baked_food))\n",
    "print(53.81**2) # variance is basically square root of standard deviation\n",
    " \n"
   ]
  },
  {
   "cell_type": "code",
   "execution_count": 350,
   "id": "18dfe2b1",
   "metadata": {},
   "outputs": [
    {
     "name": "stdout",
     "output_type": "stream",
     "text": [
      "[[1.         0.99015454]\n",
      " [0.99015454 1.        ]]\n"
     ]
    }
   ],
   "source": [
    "# -1 represents inveersely proprtional relationship\n",
    "# 1 represents proportional relationship\n",
    "#0 means no relationship\n",
    "\n",
    "tobacco_consumption = [30,50,10,30,50,40]\n",
    "deaths = [100,120,70,100,120,112]\n",
    "\n",
    "print(np.corrcoef([tobacco_consumption,deaths]))\n",
    "\n",
    "#1 means deaths are increasing as tobacco consumption increasing"
   ]
  },
  {
   "cell_type": "code",
   "execution_count": 351,
   "id": "e0dda41a",
   "metadata": {},
   "outputs": [
    {
     "name": "stdout",
     "output_type": "stream",
     "text": [
      "[[ 1.         -0.66621445]\n",
      " [-0.66621445  1.        ]]\n"
     ]
    }
   ],
   "source": [
    "price = [300,100,350,150,200]\n",
    "sales = [10,20,7,17,3]\n",
    "\n",
    "print(np.corrcoef([price,sales]))\n",
    "\n",
    "#this means as prices increases, then sales is decreasing\n",
    "#as price decreasing , sales is increasing"
   ]
  },
  {
   "cell_type": "code",
   "execution_count": 175,
   "id": "7270376c",
   "metadata": {},
   "outputs": [
    {
     "name": "stdout",
     "output_type": "stream",
     "text": [
      "[[2 2 2 2]\n",
      " [3 3 3 3]]\n"
     ]
    }
   ],
   "source": [
    "print(np.hstack([arr1,arr2]))"
   ]
  },
  {
   "cell_type": "code",
   "execution_count": 167,
   "id": "140b3419",
   "metadata": {},
   "outputs": [
    {
     "name": "stdout",
     "output_type": "stream",
     "text": [
      "[[2 2 2 2]\n",
      " [3 3 3 3]]\n"
     ]
    }
   ],
   "source": [
    "import numpy as np\n",
    "\n",
    "arr1 = np.array([[2, 2], [3, 3]])\n",
    "arr2 = np.array([[2, 2], [3, 3]])\n",
    "\n",
    "# Concatenate along axis 1 (columns)\n",
    "result = np.concatenate([arr1, arr2], axis=1)\n",
    "print(result)"
   ]
  },
  {
   "cell_type": "code",
   "execution_count": 4,
   "id": "e15a78ae",
   "metadata": {},
   "outputs": [
    {
     "name": "stdout",
     "output_type": "stream",
     "text": [
      "[40 60 80]\n"
     ]
    }
   ],
   "source": [
    "import numpy as np\n",
    "l1 = [20,30,40]\n",
    "l2 = [20,30,40]\n",
    "l1=np.array(l1)\n",
    "l2=np.array(l2)\n",
    "print(l1+l2)"
   ]
  }
 ],
 "metadata": {
  "kernelspec": {
   "display_name": "Python 3 (ipykernel)",
   "language": "python",
   "name": "python3"
  },
  "language_info": {
   "codemirror_mode": {
    "name": "ipython",
    "version": 3
   },
   "file_extension": ".py",
   "mimetype": "text/x-python",
   "name": "python",
   "nbconvert_exporter": "python",
   "pygments_lexer": "ipython3",
   "version": "3.10.1"
  }
 },
 "nbformat": 4,
 "nbformat_minor": 5
}
