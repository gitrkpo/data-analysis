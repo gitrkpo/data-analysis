{
 "cells": [
  {
   "cell_type": "code",
   "execution_count": 10,
   "id": "0afe30e6",
   "metadata": {},
   "outputs": [
    {
     "name": "stdout",
     "output_type": "stream",
     "text": [
      "connection successful\n",
      "data loaded\n",
      "data loaded successfully\n"
     ]
    }
   ],
   "source": [
    "import pandas as pd \n",
    "from sqlalchemy import create_engine\n",
    "import logging\n",
    "\n",
    "# Simple logging setup with timestamp\n",
    "logging.basicConfig(\n",
    "    filename='codeload.log',\n",
    "    level=logging.INFO,\n",
    "    format='%(asctime)s - %(levelname)s - %(message)s',\n",
    "    datefmt='%Y-%m-%d %H:%M:%S'  # Add timestamp format\n",
    ") ####\n",
    "\n",
    " \n",
    "server = 'DESKTOP-KFV9TLF\\\\MSSQLSERVEROO'\n",
    "database = 'TEST'\n",
    "\n",
    "connection_string = f\"mssql+pyodbc://@{server}/{database}?trusted_connection=yes&driver=ODBC+Driver+17+for+SQL+Server\"\n",
    "engine = create_engine(connection_string)\n",
    "\n",
    "print('connection successful')\n",
    "\n",
    "def code_load():\n",
    "    try:\n",
    "        logging.info(\"ETL process started.\") ####\n",
    "        data = pd.read_excel('superstore.xlsx')\n",
    "        print('data loaded')\n",
    "        data.to_sql('superstore_dataset', engine, if_exists=\"replace\", index=False)\n",
    "        logging.info(f'Data loaded successfully with {len(data)} rows') ####\n",
    "        print('data loaded successfully')\n",
    "    except Exception as e:\n",
    "        logging.error(f'The data loaded unsuccessfully: {e}') ####\n",
    "        raise  # Raise the exception after logging\n",
    "\n",
    "code_load()\n"
   ]
  },
  {
   "cell_type": "code",
   "execution_count": null,
   "id": "c769a240",
   "metadata": {},
   "outputs": [],
   "source": []
  },
  {
   "cell_type": "code",
   "execution_count": null,
   "id": "8fc5acad",
   "metadata": {},
   "outputs": [],
   "source": []
  }
 ],
 "metadata": {
  "kernelspec": {
   "display_name": "Python 3 (ipykernel)",
   "language": "python",
   "name": "python3"
  },
  "language_info": {
   "codemirror_mode": {
    "name": "ipython",
    "version": 3
   },
   "file_extension": ".py",
   "mimetype": "text/x-python",
   "name": "python",
   "nbconvert_exporter": "python",
   "pygments_lexer": "ipython3",
   "version": "3.10.1"
  }
 },
 "nbformat": 4,
 "nbformat_minor": 5
}
