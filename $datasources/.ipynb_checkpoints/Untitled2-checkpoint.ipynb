{
 "cells": [
  {
   "cell_type": "code",
   "execution_count": 38,
   "id": "d1de1bf8",
   "metadata": {},
   "outputs": [
    {
     "name": "stdout",
     "output_type": "stream",
     "text": [
      "    Index  Duration       Date  Pulse  Maxpulse  Calories  new_cal\n",
      "0       1        60 2020-12-01    110       130     409.1     0.59\n",
      "1       2        60 2020-12-02    117       145     479.0     0.55\n",
      "2       3        60 2020-12-03    103       135     340.0     0.70\n",
      "3       4        45 2020-12-04    109       175     282.4     1.01\n",
      "4       5        45 2020-12-05    117       148     406.0     0.65\n",
      "5       6        60 2020-12-06    102       127     300.0     0.76\n",
      "6       7        60 2020-12-07    110       136     374.0     0.66\n",
      "7       8       450 2020-12-08    104       134     253.3     0.94\n",
      "8       9        30 2020-12-09    109       133     195.1     1.24\n",
      "9      10        60 2020-12-10     98       124     269.0     0.83\n",
      "10     11        60 2020-12-11    103       147     329.3     0.76\n",
      "11     12        60 2020-12-12    100       120     250.7     0.88\n",
      "13     14        60 2020-12-13    106       128     345.3     0.68\n",
      "14     15        60 2020-12-14    104       132     379.3     0.62\n",
      "15     16        60 2020-12-15     98       123     275.0     0.80\n",
      "16     17        60 2020-12-16     98       120     215.2     1.01\n",
      "17     18        60 2020-12-17    100       120     300.0     0.73\n",
      "18     19        45 2020-12-18     90       112       NaN      NaN\n",
      "19     20        60 2020-12-19    103       123     323.0     0.70\n",
      "20     21        45 2020-12-20     97       125     243.0     0.91\n",
      "21     22        60 2020-12-21    108       131     364.2     0.66\n",
      "22     23        45        NaT    100       119     282.0     0.78\n",
      "23     24        60 2020-12-23    130       101     300.0     0.77\n",
      "24     25        45 2020-12-24    105       132     246.0     0.96\n",
      "25     26        60 2020-12-25    102       126     334.5     0.68\n",
      "26     27        60 2020-12-26    100       120     250.0     0.88\n",
      "27     28        60 2020-12-27     92       118     241.0     0.87\n",
      "28     29        60 2020-12-28    103       132       NaN      NaN\n",
      "29     30        60 2020-12-29    100       132     280.0     0.83\n",
      "30     31        60 2020-12-30    102       129     380.3     0.61\n",
      "31     32        60 2020-12-31     92       115     243.0     0.85\n"
     ]
    }
   ],
   "source": [
    "import pandas as pd \n",
    "\n",
    "data = pd.read_csv('dirtydata.csv')\n",
    "\n",
    "data['new_cal']=data['Pulse']+data['Maxpulse']\n",
    "data['new_cal']=data['new_cal']/data['Calories']\n",
    "\n",
    "data['Date']=pd.to_datetime(data['Date'])\n",
    "\n",
    "data['Date'] = data['Date'].dropna()\n",
    "data=data.drop_duplicates()\n",
    "\n",
    "data['new_col']=data.index+1\n",
    " \n",
    "data.insert(0, 'Index', data.pop('new_col'))  # Move row_number to first column\n",
    "\n",
    "print(data.round(2))\n"
   ]
  },
  {
   "cell_type": "code",
   "execution_count": null,
   "id": "e7b04250",
   "metadata": {},
   "outputs": [],
   "source": []
  }
 ],
 "metadata": {
  "kernelspec": {
   "display_name": "Python 3 (ipykernel)",
   "language": "python",
   "name": "python3"
  },
  "language_info": {
   "codemirror_mode": {
    "name": "ipython",
    "version": 3
   },
   "file_extension": ".py",
   "mimetype": "text/x-python",
   "name": "python",
   "nbconvert_exporter": "python",
   "pygments_lexer": "ipython3",
   "version": "3.10.1"
  }
 },
 "nbformat": 4,
 "nbformat_minor": 5
}
