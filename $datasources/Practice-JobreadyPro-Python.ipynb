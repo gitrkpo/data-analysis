{
 "cells": [
  {
   "cell_type": "code",
   "execution_count": 15,
   "id": "7fcb91be",
   "metadata": {},
   "outputs": [
    {
     "name": "stdout",
     "output_type": "stream",
     "text": [
      "Status Code: 204\n",
      "Headers: {'Date': 'Sun, 23 Feb 2025 01:43:15 GMT', 'Content-Length': '0', 'Connection': 'keep-alive', 'Report-To': '{\"group\":\"heroku-nel\",\"max_age\":3600,\"endpoints\":[{\"url\":\"https://nel.heroku.com/reports?ts=1740274995&sid=e11707d5-02a7-43ef-b45e-2cf4d2036f7d&s=dgE%2Fou8lNZlUCARDg1JHKkHBWPSfRHTBovaYxE95L7I%3D\"}]}', 'Reporting-Endpoints': 'heroku-nel=https://nel.heroku.com/reports?ts=1740274995&sid=e11707d5-02a7-43ef-b45e-2cf4d2036f7d&s=dgE%2Fou8lNZlUCARDg1JHKkHBWPSfRHTBovaYxE95L7I%3D', 'Nel': '{\"report_to\":\"heroku-nel\",\"max_age\":3600,\"success_fraction\":0.005,\"failure_fraction\":0.05,\"response_headers\":[\"Via\"]}', 'X-Powered-By': 'Express', 'X-Ratelimit-Limit': '1000', 'X-Ratelimit-Remaining': '999', 'X-Ratelimit-Reset': '1740275047', 'Vary': 'Origin, Access-Control-Request-Headers', 'Access-Control-Allow-Credentials': 'true', 'Access-Control-Allow-Methods': 'GET,HEAD,PUT,PATCH,POST,DELETE', 'Via': '1.1 vegur', 'cf-cache-status': 'DYNAMIC', 'Server': 'cloudflare', 'CF-RAY': '91638623aef43599-DFW', 'alt-svc': 'h3=\":443\"; ma=86400', 'server-timing': 'cfL4;desc=\"?proto=TCP&rtt=9159&min_rtt=8518&rtt_var=3652&sent=5&recv=6&lost=0&retrans=0&sent_bytes=2841&recv_bytes=801&delivery_rate=478985&cwnd=252&unsent_bytes=0&cid=d77e4f717ccd6fc2&ts=155&x=0\"'}\n"
     ]
    }
   ],
   "source": []
  }
 ],
 "metadata": {
  "kernelspec": {
   "display_name": "Python 3 (ipykernel)",
   "language": "python",
   "name": "python3"
  },
  "language_info": {
   "codemirror_mode": {
    "name": "ipython",
    "version": 3
   },
   "file_extension": ".py",
   "mimetype": "text/x-python",
   "name": "python",
   "nbconvert_exporter": "python",
   "pygments_lexer": "ipython3",
   "version": "3.10.1"
  }
 },
 "nbformat": 4,
 "nbformat_minor": 5
}
