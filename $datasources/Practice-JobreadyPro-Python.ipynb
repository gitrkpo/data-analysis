{
 "cells": [
  {
   "cell_type": "code",
   "execution_count": 77,
   "id": "7fcb91be",
   "metadata": {},
   "outputs": [
    {
     "name": "stdout",
     "output_type": "stream",
     "text": [
      "    Duration       Date  Pulse  Maxpulse  Calories\n",
      "18        45 2020-12-18     90       112       NaN\n",
      "28        61 2020-12-28    103       132       NaN\n",
      "    Duration       Date  Pulse  Maxpulse  Calories\n",
      "1         61 2020-12-02    117       145       480\n",
      "0         61 2020-12-01    110       130       409\n",
      "4         45 2020-12-05    117       148       406\n",
      "30        61 2020-12-30    102       129       380\n",
      "14        61 2020-12-14    104       132       379\n",
      "6         61 2020-12-07    110       136       374\n",
      "21        61 2020-12-21    108       131       364\n",
      "13        61 2020-12-13    106       128       345\n",
      "2         61 2020-12-03    103       135       340\n",
      "25        61 2020-12-25    102       126       334\n",
      "10        61 2020-12-11    103       147       329\n",
      "19        61 2020-12-19    103       123       323\n",
      "23        61 2020-12-23    130       101       300\n",
      "5         61 2020-12-06    102       127       300\n",
      "17        61 2020-12-17    100       120       300\n",
      "3         45 2020-12-04    109       175       282\n",
      "22        45 2020-12-22    100       119       282\n",
      "29        61 2020-12-29    100       132       280\n",
      "15        61 2020-12-15     98       123       275\n",
      "9         61 2020-12-10     98       124       269\n",
      "7         99 2020-12-08    104       134       253\n",
      "12        61 2020-12-12    100       120       250\n",
      "26        61 2020-12-26    100       120       250\n",
      "11        61 2020-12-12    100       120       250\n",
      "24        45 2020-12-24    105       132       246\n",
      "31        61 2020-12-31     92       115       243\n",
      "20        45 2020-12-20     97       125       243\n",
      "27        61 2020-12-27     92       118       241\n",
      "16        61 2020-12-16     98       120       215\n",
      "8         30 2020-12-09    109       133       195\n",
      "28        61 2020-12-28    103       132        18\n",
      "18        45 2020-12-18     90       112        18\n"
     ]
    }
   ],
   "source": [
    "import pandas as pd\n",
    "data = pd.read_csv('dirtydata.csv')\n",
    "data.loc[7,'Duration']=99 # icv\n",
    "data['Duration']=data['Duration'].replace(60,61)\n",
    "data['Date']=pd.to_datetime(data['Date'])\n",
    "data['Date']=data['Date'].fillna('2020/12/22')\n",
    "\n",
    "nullcalories= data[data['Calories'].isnull()]\n",
    "data.loc[(18,28),'Calories']=18 #i c v . index,column = values\n",
    "print(nullcalories)\n",
    "data['Calories']=data['Calories'].replace(479,480)\n",
    "data['Calories']=data['Calories'].astype('int')\n",
    "print(data.sort_values('Calories', ascending=False))\n",
    "\n",
    " "
   ]
  },
  {
   "cell_type": "code",
   "execution_count": 97,
   "id": "4b2d083c",
   "metadata": {},
   "outputs": [
    {
     "name": "stdout",
     "output_type": "stream",
     "text": [
      "   Fruit Color   Size\n",
      "2  Apple   red  small\n"
     ]
    }
   ],
   "source": [
    "#JobReadyUdemy\n",
    "import pandas as pd \n",
    "\n",
    "data = pd.DataFrame(\n",
    "[\n",
    "    (\"Apple\",'red','small')\n",
    "]\n",
    "    ,columns=[\"Fruit\",\"Color\",\"Size\"]\n",
    "    ,index=[2]\n",
    "    \n",
    "    )\n",
    "\n",
    "print(data)\n",
    "#mods"
   ]
  },
  {
   "cell_type": "code",
   "execution_count": 99,
   "id": "8aff00a8",
   "metadata": {},
   "outputs": [
    {
     "data": {
      "text/plain": [
       "array([3, 4, 5, 6, 7, 8, 9])"
      ]
     },
     "execution_count": 99,
     "metadata": {},
     "output_type": "execute_result"
    }
   ],
   "source": [
    "import numpy as np \n",
    "np.arange(3,10)"
   ]
  },
  {
   "cell_type": "code",
   "execution_count": 106,
   "id": "b87d09b7",
   "metadata": {},
   "outputs": [
    {
     "data": {
      "text/plain": [
       "array([ 2,  4,  6,  8, 10])"
      ]
     },
     "execution_count": 106,
     "metadata": {},
     "output_type": "execute_result"
    }
   ],
   "source": [
    "import numpy as np \n",
    "np.arange(2,11,2)\n",
    "#start,end,step"
   ]
  },
  {
   "cell_type": "code",
   "execution_count": 105,
   "id": "95f62909",
   "metadata": {},
   "outputs": [
    {
     "data": {
      "text/plain": [
       "array([ 1.,  2.,  3.,  4.,  5.,  6.,  7.,  8.,  9., 10.])"
      ]
     },
     "execution_count": 105,
     "metadata": {},
     "output_type": "execute_result"
    }
   ],
   "source": [
    "np.linspace(1,10,10)\n",
    "#start index, end index , number of items in that array\n",
    "#basically segments "
   ]
  },
  {
   "cell_type": "code",
   "execution_count": 110,
   "id": "61d91515",
   "metadata": {},
   "outputs": [
    {
     "data": {
      "text/plain": [
       "array([[ 1.,  1.],\n",
       "       [ 2.,  2.],\n",
       "       [ 3.,  3.],\n",
       "       [ 4.,  4.],\n",
       "       [ 5.,  5.],\n",
       "       [ 6.,  6.],\n",
       "       [ 7.,  7.],\n",
       "       [ 8.,  8.],\n",
       "       [ 9.,  9.],\n",
       "       [10., 10.]])"
      ]
     },
     "execution_count": 110,
     "metadata": {},
     "output_type": "execute_result"
    }
   ],
   "source": [
    "np.linspace((1,1),(10,10),10)"
   ]
  },
  {
   "cell_type": "code",
   "execution_count": 113,
   "id": "b6021c56",
   "metadata": {},
   "outputs": [
    {
     "data": {
      "text/plain": [
       "array([0.44696055, 0.23383747, 0.4188841 , 0.75074547])"
      ]
     },
     "execution_count": 113,
     "metadata": {},
     "output_type": "execute_result"
    }
   ],
   "source": [
    "np.random.rand(4)"
   ]
  },
  {
   "cell_type": "code",
   "execution_count": 114,
   "id": "681e5e63",
   "metadata": {},
   "outputs": [
    {
     "data": {
      "text/plain": [
       "array([[0.23270246, 0.21625233, 0.9442102 , 0.06705177],\n",
       "       [0.78188723, 0.0065453 , 0.69225779, 0.10557187]])"
      ]
     },
     "execution_count": 114,
     "metadata": {},
     "output_type": "execute_result"
    }
   ],
   "source": [
    "np.random.rand(2,4)"
   ]
  },
  {
   "cell_type": "code",
   "execution_count": 115,
   "id": "d0833f8d",
   "metadata": {},
   "outputs": [
    {
     "data": {
      "text/plain": [
       "array([ 1.50438591,  2.61095102,  0.08657949, -0.43468393,  0.76079725])"
      ]
     },
     "execution_count": 115,
     "metadata": {},
     "output_type": "execute_result"
    }
   ],
   "source": [
    "np.random.randn(5)"
   ]
  },
  {
   "cell_type": "code",
   "execution_count": 119,
   "id": "0e66e589",
   "metadata": {},
   "outputs": [
    {
     "name": "stdout",
     "output_type": "stream",
     "text": [
      "tail\n"
     ]
    }
   ],
   "source": [
    "import numpy as np\n",
    "\n",
    "result = np.random.choice(['head', 'tail'])\n",
    "print(result)\n"
   ]
  },
  {
   "cell_type": "code",
   "execution_count": 124,
   "id": "106b4b02",
   "metadata": {},
   "outputs": [
    {
     "data": {
      "text/plain": [
       "array([0., 0., 0., 0., 0., 0., 0., 0., 0., 0.])"
      ]
     },
     "execution_count": 124,
     "metadata": {},
     "output_type": "execute_result"
    }
   ],
   "source": [
    "np.zeros(10)"
   ]
  },
  {
   "cell_type": "code",
   "execution_count": 121,
   "id": "81443fb9",
   "metadata": {},
   "outputs": [
    {
     "data": {
      "text/plain": [
       "array([[0., 0., 0., 0.],\n",
       "       [0., 0., 0., 0.],\n",
       "       [0., 0., 0., 0.]])"
      ]
     },
     "execution_count": 121,
     "metadata": {},
     "output_type": "execute_result"
    }
   ],
   "source": [
    "np.zeros((3,4))"
   ]
  },
  {
   "cell_type": "code",
   "execution_count": 125,
   "id": "51d4db84",
   "metadata": {},
   "outputs": [
    {
     "data": {
      "text/plain": [
       "array([1.])"
      ]
     },
     "execution_count": 125,
     "metadata": {},
     "output_type": "execute_result"
    }
   ],
   "source": [
    "np.ones(1)"
   ]
  },
  {
   "cell_type": "code",
   "execution_count": 127,
   "id": "8d305ec3",
   "metadata": {},
   "outputs": [
    {
     "data": {
      "text/plain": [
       "array([[1., 1., 1., 1., 1.],\n",
       "       [1., 1., 1., 1., 1.],\n",
       "       [1., 1., 1., 1., 1.],\n",
       "       [1., 1., 1., 1., 1.]])"
      ]
     },
     "execution_count": 127,
     "metadata": {},
     "output_type": "execute_result"
    }
   ],
   "source": [
    "np.ones((4,5))"
   ]
  },
  {
   "cell_type": "code",
   "execution_count": 130,
   "id": "5c84a273",
   "metadata": {},
   "outputs": [
    {
     "data": {
      "text/plain": [
       "array([[1., 0., 0., 0.],\n",
       "       [0., 1., 0., 0.],\n",
       "       [0., 0., 1., 0.],\n",
       "       [0., 0., 0., 1.]])"
      ]
     },
     "execution_count": 130,
     "metadata": {},
     "output_type": "execute_result"
    }
   ],
   "source": [
    "np.eye(4)"
   ]
  },
  {
   "cell_type": "code",
   "execution_count": 136,
   "id": "14f13493",
   "metadata": {
    "scrolled": true
   },
   "outputs": [
    {
     "data": {
      "text/plain": [
       "array([ 0.29475559,  0.05147049,  0.48396699, -0.1235146 , -0.5731752 ,\n",
       "        0.06644185,  0.32379731,  1.89590191, -1.23759867,  0.79314823,\n",
       "       -0.36317378,  1.03219462])"
      ]
     },
     "execution_count": 136,
     "metadata": {},
     "output_type": "execute_result"
    }
   ],
   "source": [
    "my_array = np.random.randn(12)\n",
    "my_array"
   ]
  },
  {
   "cell_type": "code",
   "execution_count": 137,
   "id": "56713514",
   "metadata": {},
   "outputs": [
    {
     "data": {
      "text/plain": [
       "(12,)"
      ]
     },
     "execution_count": 137,
     "metadata": {},
     "output_type": "execute_result"
    }
   ],
   "source": [
    "my_array.shape"
   ]
  },
  {
   "cell_type": "code",
   "execution_count": 139,
   "id": "4b3ec011",
   "metadata": {},
   "outputs": [
    {
     "data": {
      "text/plain": [
       "array([[ 0.29475559,  0.05147049,  0.48396699, -0.1235146 ],\n",
       "       [-0.5731752 ,  0.06644185,  0.32379731,  1.89590191],\n",
       "       [-1.23759867,  0.79314823, -0.36317378,  1.03219462]])"
      ]
     },
     "execution_count": 139,
     "metadata": {},
     "output_type": "execute_result"
    }
   ],
   "source": [
    "my_array.reshape(3,4)"
   ]
  },
  {
   "cell_type": "code",
   "execution_count": 148,
   "id": "fb5bbe61",
   "metadata": {},
   "outputs": [
    {
     "data": {
      "text/plain": [
       "array([3, 4, 5, 6, 7, 8])"
      ]
     },
     "execution_count": 148,
     "metadata": {},
     "output_type": "execute_result"
    }
   ],
   "source": [
    "import numpy as np\n",
    "my_array= np.arange(3,9)\n",
    "my_array"
   ]
  },
  {
   "cell_type": "code",
   "execution_count": 145,
   "id": "537d9c50",
   "metadata": {},
   "outputs": [
    {
     "data": {
      "text/plain": [
       "5"
      ]
     },
     "execution_count": 145,
     "metadata": {},
     "output_type": "execute_result"
    }
   ],
   "source": [
    "my_array[2]"
   ]
  },
  {
   "cell_type": "code",
   "execution_count": 152,
   "id": "a76679e5",
   "metadata": {},
   "outputs": [
    {
     "data": {
      "text/plain": [
       "2"
      ]
     },
     "execution_count": 152,
     "metadata": {},
     "output_type": "execute_result"
    }
   ],
   "source": [
    "data = [1,2,3]\n",
    "data[1]"
   ]
  },
  {
   "cell_type": "code",
   "execution_count": 153,
   "id": "f4dd6ac7",
   "metadata": {},
   "outputs": [
    {
     "data": {
      "text/plain": [
       "array([5, 6])"
      ]
     },
     "execution_count": 153,
     "metadata": {},
     "output_type": "execute_result"
    }
   ],
   "source": [
    "my_array[2:4]"
   ]
  },
  {
   "cell_type": "code",
   "execution_count": 154,
   "id": "7e95e9f6",
   "metadata": {},
   "outputs": [
    {
     "data": {
      "text/plain": [
       "array([5, 6, 7, 8])"
      ]
     },
     "execution_count": 154,
     "metadata": {},
     "output_type": "execute_result"
    }
   ],
   "source": [
    "my_array[2:]"
   ]
  },
  {
   "cell_type": "code",
   "execution_count": 155,
   "id": "f541ccbd",
   "metadata": {},
   "outputs": [
    {
     "data": {
      "text/plain": [
       "array([3, 4])"
      ]
     },
     "execution_count": 155,
     "metadata": {},
     "output_type": "execute_result"
    }
   ],
   "source": [
    "my_array[:2]"
   ]
  },
  {
   "cell_type": "code",
   "execution_count": 156,
   "id": "5237a84b",
   "metadata": {},
   "outputs": [
    {
     "data": {
      "text/plain": [
       "8"
      ]
     },
     "execution_count": 156,
     "metadata": {},
     "output_type": "execute_result"
    }
   ],
   "source": [
    "my_array[-1]"
   ]
  },
  {
   "cell_type": "code",
   "execution_count": 166,
   "id": "e636d85f",
   "metadata": {},
   "outputs": [
    {
     "data": {
      "text/plain": [
       "array([3, 4, 5, 6])"
      ]
     },
     "execution_count": 166,
     "metadata": {},
     "output_type": "execute_result"
    }
   ],
   "source": [
    "slice_my_array = np.arange(3,7)\n",
    "slice_my_array"
   ]
  },
  {
   "cell_type": "code",
   "execution_count": 168,
   "id": "0040c390",
   "metadata": {},
   "outputs": [
    {
     "data": {
      "text/plain": [
       "array([4, 5])"
      ]
     },
     "execution_count": 168,
     "metadata": {},
     "output_type": "execute_result"
    }
   ],
   "source": [
    "slice = my_array[1:3]\n",
    "slice"
   ]
  },
  {
   "cell_type": "code",
   "execution_count": 169,
   "id": "e5ac5b50",
   "metadata": {},
   "outputs": [
    {
     "data": {
      "text/plain": [
       "array([25, 25])"
      ]
     },
     "execution_count": 169,
     "metadata": {},
     "output_type": "execute_result"
    }
   ],
   "source": [
    "slice[:] = 25\n",
    "slice"
   ]
  },
  {
   "cell_type": "code",
   "execution_count": 170,
   "id": "4ad0da3e",
   "metadata": {},
   "outputs": [
    {
     "data": {
      "text/plain": [
       "array([ 3, 25, 25,  6,  7,  8])"
      ]
     },
     "execution_count": 170,
     "metadata": {},
     "output_type": "execute_result"
    }
   ],
   "source": [
    "my_array"
   ]
  },
  {
   "cell_type": "code",
   "execution_count": 171,
   "id": "9b71bd00",
   "metadata": {},
   "outputs": [
    {
     "data": {
      "text/plain": [
       "array([ 3, 25, 25,  6,  7,  8])"
      ]
     },
     "execution_count": 171,
     "metadata": {},
     "output_type": "execute_result"
    }
   ],
   "source": [
    "copy = my_array.copy()\n",
    "copy"
   ]
  },
  {
   "cell_type": "code",
   "execution_count": 172,
   "id": "0d572d2d",
   "metadata": {},
   "outputs": [
    {
     "data": {
      "text/plain": [
       "array([ 3, 10, 25,  6,  7,  8])"
      ]
     },
     "execution_count": 172,
     "metadata": {},
     "output_type": "execute_result"
    }
   ],
   "source": [
    "copy[1]=10\n",
    "copy"
   ]
  },
  {
   "cell_type": "code",
   "execution_count": 173,
   "id": "2f47316f",
   "metadata": {},
   "outputs": [
    {
     "data": {
      "text/plain": [
       "array([[2, 3, 4],\n",
       "       [4, 5, 7],\n",
       "       [3, 7, 7]])"
      ]
     },
     "execution_count": 173,
     "metadata": {},
     "output_type": "execute_result"
    }
   ],
   "source": [
    "my_2d = np.array([[2,3,4],[4,5,7],[3,7,7]])\n",
    "my_2d"
   ]
  },
  {
   "cell_type": "code",
   "execution_count": 179,
   "id": "0804aab6",
   "metadata": {},
   "outputs": [
    {
     "data": {
      "text/plain": [
       "array([4, 5, 7])"
      ]
     },
     "execution_count": 179,
     "metadata": {},
     "output_type": "execute_result"
    }
   ],
   "source": [
    "my_2d[1]"
   ]
  },
  {
   "cell_type": "code",
   "execution_count": 180,
   "id": "e611f18b",
   "metadata": {},
   "outputs": [
    {
     "data": {
      "text/plain": [
       "7"
      ]
     },
     "execution_count": 180,
     "metadata": {},
     "output_type": "execute_result"
    }
   ],
   "source": [
    "my_2d[1][2] #index 1 and column 2"
   ]
  },
  {
   "cell_type": "code",
   "execution_count": 181,
   "id": "edecc23f",
   "metadata": {},
   "outputs": [
    {
     "data": {
      "text/plain": [
       "7"
      ]
     },
     "execution_count": 181,
     "metadata": {},
     "output_type": "execute_result"
    }
   ],
   "source": [
    "my_2d[1,2]"
   ]
  },
  {
   "cell_type": "code",
   "execution_count": 182,
   "id": "9df0927b",
   "metadata": {},
   "outputs": [
    {
     "data": {
      "text/plain": [
       "array([4, 7, 7])"
      ]
     },
     "execution_count": 182,
     "metadata": {},
     "output_type": "execute_result"
    }
   ],
   "source": [
    "my_2d[:,2] #you want all rows but column 2"
   ]
  },
  {
   "cell_type": "code",
   "execution_count": 190,
   "id": "55f4a4bd",
   "metadata": {},
   "outputs": [
    {
     "data": {
      "text/plain": [
       "array([1.32007171, 0.79446846, 0.77932894, 0.15346538, 0.60771882,\n",
       "       0.38179814])"
      ]
     },
     "execution_count": 190,
     "metadata": {},
     "output_type": "execute_result"
    }
   ],
   "source": [
    "rand_array = np.random.randn(10)\n",
    "bool_array = rand_array > 0\n",
    "rand_array[bool_array == True]"
   ]
  },
  {
   "cell_type": "code",
   "execution_count": null,
   "id": "51a07333",
   "metadata": {},
   "outputs": [],
   "source": []
  }
 ],
 "metadata": {
  "kernelspec": {
   "display_name": "Python 3 (ipykernel)",
   "language": "python",
   "name": "python3"
  },
  "language_info": {
   "codemirror_mode": {
    "name": "ipython",
    "version": 3
   },
   "file_extension": ".py",
   "mimetype": "text/x-python",
   "name": "python",
   "nbconvert_exporter": "python",
   "pygments_lexer": "ipython3",
   "version": "3.10.1"
  }
 },
 "nbformat": 4,
 "nbformat_minor": 5
}
