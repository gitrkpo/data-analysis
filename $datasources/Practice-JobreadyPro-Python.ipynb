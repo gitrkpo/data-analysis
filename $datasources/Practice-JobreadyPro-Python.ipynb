{
 "cells": [
  {
   "cell_type": "code",
   "execution_count": 77,
   "id": "7fcb91be",
   "metadata": {},
   "outputs": [
    {
     "name": "stdout",
     "output_type": "stream",
     "text": [
      "    Duration       Date  Pulse  Maxpulse  Calories\n",
      "18        45 2020-12-18     90       112       NaN\n",
      "28        61 2020-12-28    103       132       NaN\n",
      "    Duration       Date  Pulse  Maxpulse  Calories\n",
      "1         61 2020-12-02    117       145       480\n",
      "0         61 2020-12-01    110       130       409\n",
      "4         45 2020-12-05    117       148       406\n",
      "30        61 2020-12-30    102       129       380\n",
      "14        61 2020-12-14    104       132       379\n",
      "6         61 2020-12-07    110       136       374\n",
      "21        61 2020-12-21    108       131       364\n",
      "13        61 2020-12-13    106       128       345\n",
      "2         61 2020-12-03    103       135       340\n",
      "25        61 2020-12-25    102       126       334\n",
      "10        61 2020-12-11    103       147       329\n",
      "19        61 2020-12-19    103       123       323\n",
      "23        61 2020-12-23    130       101       300\n",
      "5         61 2020-12-06    102       127       300\n",
      "17        61 2020-12-17    100       120       300\n",
      "3         45 2020-12-04    109       175       282\n",
      "22        45 2020-12-22    100       119       282\n",
      "29        61 2020-12-29    100       132       280\n",
      "15        61 2020-12-15     98       123       275\n",
      "9         61 2020-12-10     98       124       269\n",
      "7         99 2020-12-08    104       134       253\n",
      "12        61 2020-12-12    100       120       250\n",
      "26        61 2020-12-26    100       120       250\n",
      "11        61 2020-12-12    100       120       250\n",
      "24        45 2020-12-24    105       132       246\n",
      "31        61 2020-12-31     92       115       243\n",
      "20        45 2020-12-20     97       125       243\n",
      "27        61 2020-12-27     92       118       241\n",
      "16        61 2020-12-16     98       120       215\n",
      "8         30 2020-12-09    109       133       195\n",
      "28        61 2020-12-28    103       132        18\n",
      "18        45 2020-12-18     90       112        18\n"
     ]
    }
   ],
   "source": [
    "import pandas as pd\n",
    "data = pd.read_csv('dirtydata.csv')\n",
    "data.loc[7,'Duration']=99 # icv\n",
    "data['Duration']=data['Duration'].replace(60,61)\n",
    "data['Date']=pd.to_datetime(data['Date'])\n",
    "data['Date']=data['Date'].fillna('2020/12/22')\n",
    "\n",
    "nullcalories= data[data['Calories'].isnull()]\n",
    "data.loc[(18,28),'Calories']=18 #i c v . index,column = values\n",
    "print(nullcalories)\n",
    "data['Calories']=data['Calories'].replace(479,480)\n",
    "data['Calories']=data['Calories'].astype('int')\n",
    "print(data.sort_values('Calories', ascending=False))\n",
    "\n",
    " "
   ]
  },
  {
   "cell_type": "code",
   "execution_count": 97,
   "id": "191f1328",
   "metadata": {},
   "outputs": [
    {
     "name": "stdout",
     "output_type": "stream",
     "text": [
      "   Fruit Color   Size\n",
      "2  Apple   red  small\n"
     ]
    }
   ],
   "source": [
    "#JobReadyUdemy\n",
    "import pandas as pd \n",
    "\n",
    "data = pd.DataFrame(\n",
    "[\n",
    "    (\"Apple\",'red','small')\n",
    "]\n",
    "    ,columns=[\"Fruit\",\"Color\",\"Size\"]\n",
    "    ,index=[2]\n",
    "    \n",
    "    )\n",
    "\n",
    "print(data)\n",
    "#mods"
   ]
  },
  {
   "cell_type": "code",
   "execution_count": 99,
   "id": "72166e47",
   "metadata": {},
   "outputs": [
    {
     "data": {
      "text/plain": [
       "array([3, 4, 5, 6, 7, 8, 9])"
      ]
     },
     "execution_count": 99,
     "metadata": {},
     "output_type": "execute_result"
    }
   ],
   "source": [
    "import numpy as np \n",
    "np.arange(3,10)"
   ]
  },
  {
   "cell_type": "code",
   "execution_count": 106,
   "id": "e2895014",
   "metadata": {},
   "outputs": [
    {
     "data": {
      "text/plain": [
       "array([ 2,  4,  6,  8, 10])"
      ]
     },
     "execution_count": 106,
     "metadata": {},
     "output_type": "execute_result"
    }
   ],
   "source": [
    "import numpy as np \n",
    "np.arange(2,11,2)\n",
    "#start,end,step"
   ]
  },
  {
   "cell_type": "code",
   "execution_count": 105,
   "id": "7ddede9f",
   "metadata": {},
   "outputs": [
    {
     "data": {
      "text/plain": [
       "array([ 1.,  2.,  3.,  4.,  5.,  6.,  7.,  8.,  9., 10.])"
      ]
     },
     "execution_count": 105,
     "metadata": {},
     "output_type": "execute_result"
    }
   ],
   "source": [
    "np.linspace(1,10,10)\n",
    "#start index, end index , number of items in that array\n",
    "#basically segments "
   ]
  },
  {
   "cell_type": "code",
   "execution_count": 110,
   "id": "0808cc27",
   "metadata": {},
   "outputs": [
    {
     "data": {
      "text/plain": [
       "array([[ 1.,  1.],\n",
       "       [ 2.,  2.],\n",
       "       [ 3.,  3.],\n",
       "       [ 4.,  4.],\n",
       "       [ 5.,  5.],\n",
       "       [ 6.,  6.],\n",
       "       [ 7.,  7.],\n",
       "       [ 8.,  8.],\n",
       "       [ 9.,  9.],\n",
       "       [10., 10.]])"
      ]
     },
     "execution_count": 110,
     "metadata": {},
     "output_type": "execute_result"
    }
   ],
   "source": [
    "np.linspace((1,1),(10,10),10)"
   ]
  },
  {
   "cell_type": "code",
   "execution_count": 113,
   "id": "acdd2835",
   "metadata": {},
   "outputs": [
    {
     "data": {
      "text/plain": [
       "array([0.44696055, 0.23383747, 0.4188841 , 0.75074547])"
      ]
     },
     "execution_count": 113,
     "metadata": {},
     "output_type": "execute_result"
    }
   ],
   "source": [
    "np.random.rand(4)"
   ]
  },
  {
   "cell_type": "code",
   "execution_count": 114,
   "id": "68a50608",
   "metadata": {},
   "outputs": [
    {
     "data": {
      "text/plain": [
       "array([[0.23270246, 0.21625233, 0.9442102 , 0.06705177],\n",
       "       [0.78188723, 0.0065453 , 0.69225779, 0.10557187]])"
      ]
     },
     "execution_count": 114,
     "metadata": {},
     "output_type": "execute_result"
    }
   ],
   "source": [
    "np.random.rand(2,4)"
   ]
  },
  {
   "cell_type": "code",
   "execution_count": 115,
   "id": "ff7345eb",
   "metadata": {},
   "outputs": [
    {
     "data": {
      "text/plain": [
       "array([ 1.50438591,  2.61095102,  0.08657949, -0.43468393,  0.76079725])"
      ]
     },
     "execution_count": 115,
     "metadata": {},
     "output_type": "execute_result"
    }
   ],
   "source": [
    "np.random.randn(5)"
   ]
  },
  {
   "cell_type": "code",
   "execution_count": 119,
   "id": "7fb3bb12",
   "metadata": {},
   "outputs": [
    {
     "name": "stdout",
     "output_type": "stream",
     "text": [
      "tail\n"
     ]
    }
   ],
   "source": [
    "import numpy as np\n",
    "\n",
    "result = np.random.choice(['head', 'tail'])\n",
    "print(result)\n"
   ]
  },
  {
   "cell_type": "code",
   "execution_count": 124,
   "id": "5ae1ea0d",
   "metadata": {},
   "outputs": [
    {
     "data": {
      "text/plain": [
       "array([0., 0., 0., 0., 0., 0., 0., 0., 0., 0.])"
      ]
     },
     "execution_count": 124,
     "metadata": {},
     "output_type": "execute_result"
    }
   ],
   "source": [
    "np.zeros(10)"
   ]
  },
  {
   "cell_type": "code",
   "execution_count": 121,
   "id": "6f942b6d",
   "metadata": {},
   "outputs": [
    {
     "data": {
      "text/plain": [
       "array([[0., 0., 0., 0.],\n",
       "       [0., 0., 0., 0.],\n",
       "       [0., 0., 0., 0.]])"
      ]
     },
     "execution_count": 121,
     "metadata": {},
     "output_type": "execute_result"
    }
   ],
   "source": [
    "np.zeros((3,4))"
   ]
  },
  {
   "cell_type": "code",
   "execution_count": 125,
   "id": "5a66ee39",
   "metadata": {},
   "outputs": [
    {
     "data": {
      "text/plain": [
       "array([1.])"
      ]
     },
     "execution_count": 125,
     "metadata": {},
     "output_type": "execute_result"
    }
   ],
   "source": [
    "np.ones(1)"
   ]
  },
  {
   "cell_type": "code",
   "execution_count": 127,
   "id": "71ea032b",
   "metadata": {},
   "outputs": [
    {
     "data": {
      "text/plain": [
       "array([[1., 1., 1., 1., 1.],\n",
       "       [1., 1., 1., 1., 1.],\n",
       "       [1., 1., 1., 1., 1.],\n",
       "       [1., 1., 1., 1., 1.]])"
      ]
     },
     "execution_count": 127,
     "metadata": {},
     "output_type": "execute_result"
    }
   ],
   "source": [
    "np.ones((4,5))"
   ]
  },
  {
   "cell_type": "code",
   "execution_count": 130,
   "id": "c1056fdc",
   "metadata": {},
   "outputs": [
    {
     "data": {
      "text/plain": [
       "array([[1., 0., 0., 0.],\n",
       "       [0., 1., 0., 0.],\n",
       "       [0., 0., 1., 0.],\n",
       "       [0., 0., 0., 1.]])"
      ]
     },
     "execution_count": 130,
     "metadata": {},
     "output_type": "execute_result"
    }
   ],
   "source": [
    "np.eye(4)"
   ]
  },
  {
   "cell_type": "code",
   "execution_count": 136,
   "id": "36fbef6f",
   "metadata": {
    "scrolled": true
   },
   "outputs": [
    {
     "data": {
      "text/plain": [
       "array([ 0.29475559,  0.05147049,  0.48396699, -0.1235146 , -0.5731752 ,\n",
       "        0.06644185,  0.32379731,  1.89590191, -1.23759867,  0.79314823,\n",
       "       -0.36317378,  1.03219462])"
      ]
     },
     "execution_count": 136,
     "metadata": {},
     "output_type": "execute_result"
    }
   ],
   "source": [
    "my_array = np.random.randn(12)\n",
    "my_array"
   ]
  },
  {
   "cell_type": "code",
   "execution_count": 137,
   "id": "6570fd6d",
   "metadata": {},
   "outputs": [
    {
     "data": {
      "text/plain": [
       "(12,)"
      ]
     },
     "execution_count": 137,
     "metadata": {},
     "output_type": "execute_result"
    }
   ],
   "source": [
    "my_array.shape"
   ]
  },
  {
   "cell_type": "code",
   "execution_count": 139,
   "id": "7e2a9a8c",
   "metadata": {},
   "outputs": [
    {
     "data": {
      "text/plain": [
       "array([[ 0.29475559,  0.05147049,  0.48396699, -0.1235146 ],\n",
       "       [-0.5731752 ,  0.06644185,  0.32379731,  1.89590191],\n",
       "       [-1.23759867,  0.79314823, -0.36317378,  1.03219462]])"
      ]
     },
     "execution_count": 139,
     "metadata": {},
     "output_type": "execute_result"
    }
   ],
   "source": [
    "my_array.reshape(3,4)"
   ]
  },
  {
   "cell_type": "code",
   "execution_count": 148,
   "id": "b6f3fd58",
   "metadata": {},
   "outputs": [
    {
     "data": {
      "text/plain": [
       "array([3, 4, 5, 6, 7, 8])"
      ]
     },
     "execution_count": 148,
     "metadata": {},
     "output_type": "execute_result"
    }
   ],
   "source": [
    "import numpy as np\n",
    "my_array= np.arange(3,9)\n",
    "my_array"
   ]
  },
  {
   "cell_type": "code",
   "execution_count": 145,
   "id": "e6a28194",
   "metadata": {},
   "outputs": [
    {
     "data": {
      "text/plain": [
       "5"
      ]
     },
     "execution_count": 145,
     "metadata": {},
     "output_type": "execute_result"
    }
   ],
   "source": [
    "my_array[2]"
   ]
  },
  {
   "cell_type": "code",
   "execution_count": 152,
   "id": "0a1749c3",
   "metadata": {},
   "outputs": [
    {
     "data": {
      "text/plain": [
       "2"
      ]
     },
     "execution_count": 152,
     "metadata": {},
     "output_type": "execute_result"
    }
   ],
   "source": [
    "data = [1,2,3]\n",
    "data[1]"
   ]
  },
  {
   "cell_type": "code",
   "execution_count": 153,
   "id": "75a75460",
   "metadata": {},
   "outputs": [
    {
     "data": {
      "text/plain": [
       "array([5, 6])"
      ]
     },
     "execution_count": 153,
     "metadata": {},
     "output_type": "execute_result"
    }
   ],
   "source": [
    "my_array[2:4]"
   ]
  },
  {
   "cell_type": "code",
   "execution_count": 154,
   "id": "76da1dc9",
   "metadata": {},
   "outputs": [
    {
     "data": {
      "text/plain": [
       "array([5, 6, 7, 8])"
      ]
     },
     "execution_count": 154,
     "metadata": {},
     "output_type": "execute_result"
    }
   ],
   "source": [
    "my_array[2:]"
   ]
  },
  {
   "cell_type": "code",
   "execution_count": 155,
   "id": "fb7c5d2d",
   "metadata": {},
   "outputs": [
    {
     "data": {
      "text/plain": [
       "array([3, 4])"
      ]
     },
     "execution_count": 155,
     "metadata": {},
     "output_type": "execute_result"
    }
   ],
   "source": [
    "my_array[:2]"
   ]
  },
  {
   "cell_type": "code",
   "execution_count": 156,
   "id": "b4b266d5",
   "metadata": {},
   "outputs": [
    {
     "data": {
      "text/plain": [
       "8"
      ]
     },
     "execution_count": 156,
     "metadata": {},
     "output_type": "execute_result"
    }
   ],
   "source": [
    "my_array[-1]"
   ]
  },
  {
   "cell_type": "code",
   "execution_count": 166,
   "id": "ff9c005a",
   "metadata": {},
   "outputs": [
    {
     "data": {
      "text/plain": [
       "array([3, 4, 5, 6])"
      ]
     },
     "execution_count": 166,
     "metadata": {},
     "output_type": "execute_result"
    }
   ],
   "source": [
    "slice_my_array = np.arange(3,7)\n",
    "slice_my_array"
   ]
  },
  {
   "cell_type": "code",
   "execution_count": 168,
   "id": "93a9feb3",
   "metadata": {},
   "outputs": [
    {
     "data": {
      "text/plain": [
       "array([4, 5])"
      ]
     },
     "execution_count": 168,
     "metadata": {},
     "output_type": "execute_result"
    }
   ],
   "source": [
    "slice = my_array[1:3]\n",
    "slice"
   ]
  },
  {
   "cell_type": "code",
   "execution_count": 169,
   "id": "e3adf2f4",
   "metadata": {},
   "outputs": [
    {
     "data": {
      "text/plain": [
       "array([25, 25])"
      ]
     },
     "execution_count": 169,
     "metadata": {},
     "output_type": "execute_result"
    }
   ],
   "source": [
    "slice[:] = 25\n",
    "slice"
   ]
  },
  {
   "cell_type": "code",
   "execution_count": 170,
   "id": "d0d8b651",
   "metadata": {},
   "outputs": [
    {
     "data": {
      "text/plain": [
       "array([ 3, 25, 25,  6,  7,  8])"
      ]
     },
     "execution_count": 170,
     "metadata": {},
     "output_type": "execute_result"
    }
   ],
   "source": [
    "my_array"
   ]
  },
  {
   "cell_type": "code",
   "execution_count": 171,
   "id": "ab7865d2",
   "metadata": {},
   "outputs": [
    {
     "data": {
      "text/plain": [
       "array([ 3, 25, 25,  6,  7,  8])"
      ]
     },
     "execution_count": 171,
     "metadata": {},
     "output_type": "execute_result"
    }
   ],
   "source": [
    "copy = my_array.copy()\n",
    "copy"
   ]
  },
  {
   "cell_type": "code",
   "execution_count": 172,
   "id": "161b5cef",
   "metadata": {},
   "outputs": [
    {
     "data": {
      "text/plain": [
       "array([ 3, 10, 25,  6,  7,  8])"
      ]
     },
     "execution_count": 172,
     "metadata": {},
     "output_type": "execute_result"
    }
   ],
   "source": [
    "copy[1]=10\n",
    "copy"
   ]
  },
  {
   "cell_type": "code",
   "execution_count": 173,
   "id": "09db72db",
   "metadata": {},
   "outputs": [
    {
     "data": {
      "text/plain": [
       "array([[2, 3, 4],\n",
       "       [4, 5, 7],\n",
       "       [3, 7, 7]])"
      ]
     },
     "execution_count": 173,
     "metadata": {},
     "output_type": "execute_result"
    }
   ],
   "source": [
    "my_2d = np.array([[2,3,4],[4,5,7],[3,7,7]])\n",
    "my_2d"
   ]
  },
  {
   "cell_type": "code",
   "execution_count": 179,
   "id": "3b49a25f",
   "metadata": {},
   "outputs": [
    {
     "data": {
      "text/plain": [
       "array([4, 5, 7])"
      ]
     },
     "execution_count": 179,
     "metadata": {},
     "output_type": "execute_result"
    }
   ],
   "source": [
    "my_2d[1]"
   ]
  },
  {
   "cell_type": "code",
   "execution_count": 180,
   "id": "345d353b",
   "metadata": {},
   "outputs": [
    {
     "data": {
      "text/plain": [
       "7"
      ]
     },
     "execution_count": 180,
     "metadata": {},
     "output_type": "execute_result"
    }
   ],
   "source": [
    "my_2d[1][2] #index 1 and column 2"
   ]
  },
  {
   "cell_type": "code",
   "execution_count": 181,
   "id": "7d2cedcb",
   "metadata": {},
   "outputs": [
    {
     "data": {
      "text/plain": [
       "7"
      ]
     },
     "execution_count": 181,
     "metadata": {},
     "output_type": "execute_result"
    }
   ],
   "source": [
    "my_2d[1,2]"
   ]
  },
  {
   "cell_type": "code",
   "execution_count": 182,
   "id": "02d0b39b",
   "metadata": {},
   "outputs": [
    {
     "data": {
      "text/plain": [
       "array([4, 7, 7])"
      ]
     },
     "execution_count": 182,
     "metadata": {},
     "output_type": "execute_result"
    }
   ],
   "source": [
    "my_2d[:,2] #you want all rows but column 2"
   ]
  },
  {
   "cell_type": "code",
   "execution_count": 190,
   "id": "cf62a3aa",
   "metadata": {},
   "outputs": [
    {
     "data": {
      "text/plain": [
       "array([1.32007171, 0.79446846, 0.77932894, 0.15346538, 0.60771882,\n",
       "       0.38179814])"
      ]
     },
     "execution_count": 190,
     "metadata": {},
     "output_type": "execute_result"
    }
   ],
   "source": [
    "rand_array = np.random.randn(10)\n",
    "bool_array = rand_array > 0\n",
    "rand_array[bool_array == True]"
   ]
  },
  {
   "cell_type": "code",
   "execution_count": 193,
   "id": "6dabbc4a",
   "metadata": {},
   "outputs": [
    {
     "data": {
      "text/plain": [
       "array([1.32007171])"
      ]
     },
     "execution_count": 193,
     "metadata": {},
     "output_type": "execute_result"
    }
   ],
   "source": [
    "rand_array[rand_array>1]"
   ]
  },
  {
   "cell_type": "code",
   "execution_count": 195,
   "id": "5cd2d81c",
   "metadata": {},
   "outputs": [
    {
     "data": {
      "text/plain": [
       "array([[ 0.80174917, -0.76273717, -0.92213643, -0.09281958, -2.15590923],\n",
       "       [-0.01943135,  0.7797365 ,  0.89579701,  0.3839045 ,  0.55778701],\n",
       "       [-1.23376804, -0.05903596,  1.152534  , -0.96179238, -0.78997869]])"
      ]
     },
     "execution_count": 195,
     "metadata": {},
     "output_type": "execute_result"
    }
   ],
   "source": [
    "rand_array = np.random.randn(15).reshape(3,5)\n",
    "rand_array"
   ]
  },
  {
   "cell_type": "code",
   "execution_count": 197,
   "id": "cfa469c7",
   "metadata": {},
   "outputs": [
    {
     "data": {
      "text/plain": [
       "array([0.80174917, 0.7797365 , 0.89579701, 0.3839045 , 0.55778701,\n",
       "       1.152534  ])"
      ]
     },
     "execution_count": 197,
     "metadata": {},
     "output_type": "execute_result"
    }
   ],
   "source": [
    "rand_array[rand_array>0]"
   ]
  },
  {
   "cell_type": "code",
   "execution_count": 216,
   "id": "5f3eb662",
   "metadata": {},
   "outputs": [
    {
     "data": {
      "text/plain": [
       "array([[-0.13570929, -0.69124786,  1.3814733 , -0.57695988, -0.18442027],\n",
       "       [-0.34545807,  0.03403026,  0.59367665,  0.54588717, -0.56104355],\n",
       "       [-2.10064025,  0.1869751 ,  1.56142073, -0.92932649,  0.99409337]])"
      ]
     },
     "execution_count": 216,
     "metadata": {},
     "output_type": "execute_result"
    }
   ],
   "source": [
    "import pandas as pd \n",
    "import numpy as np\n",
    "array  = np.random.randn(1,15).reshape(3,5)\n",
    "array "
   ]
  },
  {
   "cell_type": "code",
   "execution_count": 220,
   "id": "9b007b48",
   "metadata": {},
   "outputs": [
    {
     "data": {
      "text/html": [
       "<div>\n",
       "<style scoped>\n",
       "    .dataframe tbody tr th:only-of-type {\n",
       "        vertical-align: middle;\n",
       "    }\n",
       "\n",
       "    .dataframe tbody tr th {\n",
       "        vertical-align: top;\n",
       "    }\n",
       "\n",
       "    .dataframe thead th {\n",
       "        text-align: right;\n",
       "    }\n",
       "</style>\n",
       "<table border=\"1\" class=\"dataframe\">\n",
       "  <thead>\n",
       "    <tr style=\"text-align: right;\">\n",
       "      <th></th>\n",
       "      <th>0</th>\n",
       "    </tr>\n",
       "  </thead>\n",
       "  <tbody>\n",
       "    <tr>\n",
       "      <th>1</th>\n",
       "      <td>Dog</td>\n",
       "    </tr>\n",
       "  </tbody>\n",
       "</table>\n",
       "</div>"
      ],
      "text/plain": [
       "     0\n",
       "1  Dog"
      ]
     },
     "execution_count": 220,
     "metadata": {},
     "output_type": "execute_result"
    }
   ],
   "source": [
    "import pandas as pd \n",
    "data = pd.DataFrame(['Cat','Dog','Elephant'])\n",
    "data[data[0]=='Dog']\n"
   ]
  },
  {
   "cell_type": "code",
   "execution_count": 226,
   "id": "c8b54261",
   "metadata": {},
   "outputs": [
    {
     "data": {
      "text/plain": [
       "array([1.46058988, 0.95861723, 0.80042716, 0.7433407 , 0.95847571,\n",
       "       0.50249094, 0.1921347 ])"
      ]
     },
     "execution_count": 226,
     "metadata": {},
     "output_type": "execute_result"
    }
   ],
   "source": [
    "array = np.random.randn(15).reshape(3,5)\n",
    "boole = array>0\n",
    "boole\n",
    "array[boole>0]"
   ]
  }
 ],
 "metadata": {
  "kernelspec": {
   "display_name": "Python 3 (ipykernel)",
   "language": "python",
   "name": "python3"
  },
  "language_info": {
   "codemirror_mode": {
    "name": "ipython",
    "version": 3
   },
   "file_extension": ".py",
   "mimetype": "text/x-python",
   "name": "python",
   "nbconvert_exporter": "python",
   "pygments_lexer": "ipython3",
   "version": "3.10.1"
  }
 },
 "nbformat": 4,
 "nbformat_minor": 5
}
