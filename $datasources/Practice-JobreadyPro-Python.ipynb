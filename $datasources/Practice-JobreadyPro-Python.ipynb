{
 "cells": [
  {
   "cell_type": "code",
   "execution_count": 77,
   "id": "7fcb91be",
   "metadata": {},
   "outputs": [
    {
     "name": "stdout",
     "output_type": "stream",
     "text": [
      "    Duration       Date  Pulse  Maxpulse  Calories\n",
      "18        45 2020-12-18     90       112       NaN\n",
      "28        61 2020-12-28    103       132       NaN\n",
      "    Duration       Date  Pulse  Maxpulse  Calories\n",
      "1         61 2020-12-02    117       145       480\n",
      "0         61 2020-12-01    110       130       409\n",
      "4         45 2020-12-05    117       148       406\n",
      "30        61 2020-12-30    102       129       380\n",
      "14        61 2020-12-14    104       132       379\n",
      "6         61 2020-12-07    110       136       374\n",
      "21        61 2020-12-21    108       131       364\n",
      "13        61 2020-12-13    106       128       345\n",
      "2         61 2020-12-03    103       135       340\n",
      "25        61 2020-12-25    102       126       334\n",
      "10        61 2020-12-11    103       147       329\n",
      "19        61 2020-12-19    103       123       323\n",
      "23        61 2020-12-23    130       101       300\n",
      "5         61 2020-12-06    102       127       300\n",
      "17        61 2020-12-17    100       120       300\n",
      "3         45 2020-12-04    109       175       282\n",
      "22        45 2020-12-22    100       119       282\n",
      "29        61 2020-12-29    100       132       280\n",
      "15        61 2020-12-15     98       123       275\n",
      "9         61 2020-12-10     98       124       269\n",
      "7         99 2020-12-08    104       134       253\n",
      "12        61 2020-12-12    100       120       250\n",
      "26        61 2020-12-26    100       120       250\n",
      "11        61 2020-12-12    100       120       250\n",
      "24        45 2020-12-24    105       132       246\n",
      "31        61 2020-12-31     92       115       243\n",
      "20        45 2020-12-20     97       125       243\n",
      "27        61 2020-12-27     92       118       241\n",
      "16        61 2020-12-16     98       120       215\n",
      "8         30 2020-12-09    109       133       195\n",
      "28        61 2020-12-28    103       132        18\n",
      "18        45 2020-12-18     90       112        18\n"
     ]
    }
   ],
   "source": [
    "import pandas as pd\n",
    "data = pd.read_csv('dirtydata.csv')\n",
    "data.loc[7,'Duration']=99 # icv\n",
    "data['Duration']=data['Duration'].replace(60,61)\n",
    "data['Date']=pd.to_datetime(data['Date'])\n",
    "data['Date']=data['Date'].fillna('2020/12/22')\n",
    "\n",
    "nullcalories= data[data['Calories'].isnull()]\n",
    "data.loc[(18,28),'Calories']=18 #i c v . index,column = values\n",
    "print(nullcalories)\n",
    "data['Calories']=data['Calories'].replace(479,480)\n",
    "data['Calories']=data['Calories'].astype('int')\n",
    "print(data.sort_values('Calories', ascending=False))\n",
    "\n",
    " "
   ]
  },
  {
   "cell_type": "code",
   "execution_count": 97,
   "id": "0ab1c7ea",
   "metadata": {},
   "outputs": [
    {
     "name": "stdout",
     "output_type": "stream",
     "text": [
      "   Fruit Color   Size\n",
      "2  Apple   red  small\n"
     ]
    }
   ],
   "source": [
    "#JobReadyUdemy\n",
    "import pandas as pd \n",
    "\n",
    "data = pd.DataFrame(\n",
    "[\n",
    "    (\"Apple\",'red','small')\n",
    "]\n",
    "    ,columns=[\"Fruit\",\"Color\",\"Size\"]\n",
    "    ,index=[2]\n",
    "    \n",
    "    )\n",
    "\n",
    "print(data)\n",
    "#mods"
   ]
  },
  {
   "cell_type": "code",
   "execution_count": 99,
   "id": "10f450b6",
   "metadata": {},
   "outputs": [
    {
     "data": {
      "text/plain": [
       "array([3, 4, 5, 6, 7, 8, 9])"
      ]
     },
     "execution_count": 99,
     "metadata": {},
     "output_type": "execute_result"
    }
   ],
   "source": [
    "import numpy as np \n",
    "np.arange(3,10)"
   ]
  },
  {
   "cell_type": "code",
   "execution_count": 106,
   "id": "7a2196a7",
   "metadata": {},
   "outputs": [
    {
     "data": {
      "text/plain": [
       "array([ 2,  4,  6,  8, 10])"
      ]
     },
     "execution_count": 106,
     "metadata": {},
     "output_type": "execute_result"
    }
   ],
   "source": [
    "import numpy as np \n",
    "np.arange(2,11,2)\n",
    "#start,end,step"
   ]
  },
  {
   "cell_type": "code",
   "execution_count": 105,
   "id": "03fcc74d",
   "metadata": {},
   "outputs": [
    {
     "data": {
      "text/plain": [
       "array([ 1.,  2.,  3.,  4.,  5.,  6.,  7.,  8.,  9., 10.])"
      ]
     },
     "execution_count": 105,
     "metadata": {},
     "output_type": "execute_result"
    }
   ],
   "source": [
    "np.linspace(1,10,10)\n",
    "#start index, end index , number of items in that array\n",
    "#basically segments "
   ]
  },
  {
   "cell_type": "code",
   "execution_count": 110,
   "id": "0d4490aa",
   "metadata": {},
   "outputs": [
    {
     "data": {
      "text/plain": [
       "array([[ 1.,  1.],\n",
       "       [ 2.,  2.],\n",
       "       [ 3.,  3.],\n",
       "       [ 4.,  4.],\n",
       "       [ 5.,  5.],\n",
       "       [ 6.,  6.],\n",
       "       [ 7.,  7.],\n",
       "       [ 8.,  8.],\n",
       "       [ 9.,  9.],\n",
       "       [10., 10.]])"
      ]
     },
     "execution_count": 110,
     "metadata": {},
     "output_type": "execute_result"
    }
   ],
   "source": [
    "np.linspace((1,1),(10,10),10)"
   ]
  },
  {
   "cell_type": "code",
   "execution_count": 113,
   "id": "048dd512",
   "metadata": {},
   "outputs": [
    {
     "data": {
      "text/plain": [
       "array([0.44696055, 0.23383747, 0.4188841 , 0.75074547])"
      ]
     },
     "execution_count": 113,
     "metadata": {},
     "output_type": "execute_result"
    }
   ],
   "source": [
    "np.random.rand(4)"
   ]
  },
  {
   "cell_type": "code",
   "execution_count": 114,
   "id": "ec272cd8",
   "metadata": {},
   "outputs": [
    {
     "data": {
      "text/plain": [
       "array([[0.23270246, 0.21625233, 0.9442102 , 0.06705177],\n",
       "       [0.78188723, 0.0065453 , 0.69225779, 0.10557187]])"
      ]
     },
     "execution_count": 114,
     "metadata": {},
     "output_type": "execute_result"
    }
   ],
   "source": [
    "np.random.rand(2,4)"
   ]
  },
  {
   "cell_type": "code",
   "execution_count": 115,
   "id": "0a5f3f85",
   "metadata": {},
   "outputs": [
    {
     "data": {
      "text/plain": [
       "array([ 1.50438591,  2.61095102,  0.08657949, -0.43468393,  0.76079725])"
      ]
     },
     "execution_count": 115,
     "metadata": {},
     "output_type": "execute_result"
    }
   ],
   "source": [
    "np.random.randn(5)"
   ]
  },
  {
   "cell_type": "code",
   "execution_count": 119,
   "id": "f941dbb7",
   "metadata": {},
   "outputs": [
    {
     "name": "stdout",
     "output_type": "stream",
     "text": [
      "tail\n"
     ]
    }
   ],
   "source": [
    "import numpy as np\n",
    "\n",
    "result = np.random.choice(['head', 'tail'])\n",
    " \n",
    "print(result)\n"
   ]
  },
  {
   "cell_type": "code",
   "execution_count": 124,
   "id": "fcdcb227",
   "metadata": {},
   "outputs": [
    {
     "data": {
      "text/plain": [
       "array([0., 0., 0., 0., 0., 0., 0., 0., 0., 0.])"
      ]
     },
     "execution_count": 124,
     "metadata": {},
     "output_type": "execute_result"
    }
   ],
   "source": [
    "np.zeros(10)"
   ]
  },
  {
   "cell_type": "code",
   "execution_count": 121,
   "id": "bb1cb009",
   "metadata": {},
   "outputs": [
    {
     "data": {
      "text/plain": [
       "array([[0., 0., 0., 0.],\n",
       "       [0., 0., 0., 0.],\n",
       "       [0., 0., 0., 0.]])"
      ]
     },
     "execution_count": 121,
     "metadata": {},
     "output_type": "execute_result"
    }
   ],
   "source": [
    "np.zeros((3,4))"
   ]
  },
  {
   "cell_type": "code",
   "execution_count": 125,
   "id": "33db5167",
   "metadata": {},
   "outputs": [
    {
     "data": {
      "text/plain": [
       "array([1.])"
      ]
     },
     "execution_count": 125,
     "metadata": {},
     "output_type": "execute_result"
    }
   ],
   "source": [
    "np.ones(1)"
   ]
  },
  {
   "cell_type": "code",
   "execution_count": 127,
   "id": "082ad89a",
   "metadata": {},
   "outputs": [
    {
     "data": {
      "text/plain": [
       "array([[1., 1., 1., 1., 1.],\n",
       "       [1., 1., 1., 1., 1.],\n",
       "       [1., 1., 1., 1., 1.],\n",
       "       [1., 1., 1., 1., 1.]])"
      ]
     },
     "execution_count": 127,
     "metadata": {},
     "output_type": "execute_result"
    }
   ],
   "source": [
    "np.ones((4,5))"
   ]
  },
  {
   "cell_type": "code",
   "execution_count": 130,
   "id": "2ae502b3",
   "metadata": {},
   "outputs": [
    {
     "data": {
      "text/plain": [
       "array([[1., 0., 0., 0.],\n",
       "       [0., 1., 0., 0.],\n",
       "       [0., 0., 1., 0.],\n",
       "       [0., 0., 0., 1.]])"
      ]
     },
     "execution_count": 130,
     "metadata": {},
     "output_type": "execute_result"
    }
   ],
   "source": [
    "np.eye(4)"
   ]
  },
  {
   "cell_type": "code",
   "execution_count": 136,
   "id": "fad739d4",
   "metadata": {
    "scrolled": true
   },
   "outputs": [
    {
     "data": {
      "text/plain": [
       "array([ 0.29475559,  0.05147049,  0.48396699, -0.1235146 , -0.5731752 ,\n",
       "        0.06644185,  0.32379731,  1.89590191, -1.23759867,  0.79314823,\n",
       "       -0.36317378,  1.03219462])"
      ]
     },
     "execution_count": 136,
     "metadata": {},
     "output_type": "execute_result"
    }
   ],
   "source": [
    "my_array = np.random.randn(12)\n",
    "my_array"
   ]
  },
  {
   "cell_type": "code",
   "execution_count": 137,
   "id": "15519e9b",
   "metadata": {},
   "outputs": [
    {
     "data": {
      "text/plain": [
       "(12,)"
      ]
     },
     "execution_count": 137,
     "metadata": {},
     "output_type": "execute_result"
    }
   ],
   "source": [
    "my_array.shape"
   ]
  },
  {
   "cell_type": "code",
   "execution_count": 139,
   "id": "4eecc786",
   "metadata": {},
   "outputs": [
    {
     "data": {
      "text/plain": [
       "array([[ 0.29475559,  0.05147049,  0.48396699, -0.1235146 ],\n",
       "       [-0.5731752 ,  0.06644185,  0.32379731,  1.89590191],\n",
       "       [-1.23759867,  0.79314823, -0.36317378,  1.03219462]])"
      ]
     },
     "execution_count": 139,
     "metadata": {},
     "output_type": "execute_result"
    }
   ],
   "source": [
    "my_array.reshape(3,4)"
   ]
  },
  {
   "cell_type": "code",
   "execution_count": 148,
   "id": "8ef3eb62",
   "metadata": {},
   "outputs": [
    {
     "data": {
      "text/plain": [
       "array([3, 4, 5, 6, 7, 8])"
      ]
     },
     "execution_count": 148,
     "metadata": {},
     "output_type": "execute_result"
    }
   ],
   "source": [
    "import numpy as np\n",
    "my_array= np.arange(3,9)\n",
    "my_array"
   ]
  },
  {
   "cell_type": "code",
   "execution_count": 145,
   "id": "9c20916a",
   "metadata": {},
   "outputs": [
    {
     "data": {
      "text/plain": [
       "5"
      ]
     },
     "execution_count": 145,
     "metadata": {},
     "output_type": "execute_result"
    }
   ],
   "source": [
    "my_array[2]"
   ]
  },
  {
   "cell_type": "code",
   "execution_count": 152,
   "id": "5683cf63",
   "metadata": {},
   "outputs": [
    {
     "data": {
      "text/plain": [
       "2"
      ]
     },
     "execution_count": 152,
     "metadata": {},
     "output_type": "execute_result"
    }
   ],
   "source": [
    "data = [1,2,3]\n",
    "data[1]"
   ]
  },
  {
   "cell_type": "code",
   "execution_count": 153,
   "id": "ebdc1f60",
   "metadata": {},
   "outputs": [
    {
     "data": {
      "text/plain": [
       "array([5, 6])"
      ]
     },
     "execution_count": 153,
     "metadata": {},
     "output_type": "execute_result"
    }
   ],
   "source": [
    "my_array[2:4]"
   ]
  },
  {
   "cell_type": "code",
   "execution_count": 154,
   "id": "619c063a",
   "metadata": {},
   "outputs": [
    {
     "data": {
      "text/plain": [
       "array([5, 6, 7, 8])"
      ]
     },
     "execution_count": 154,
     "metadata": {},
     "output_type": "execute_result"
    }
   ],
   "source": [
    "my_array[2:]"
   ]
  },
  {
   "cell_type": "code",
   "execution_count": 155,
   "id": "e7144db4",
   "metadata": {},
   "outputs": [
    {
     "data": {
      "text/plain": [
       "array([3, 4])"
      ]
     },
     "execution_count": 155,
     "metadata": {},
     "output_type": "execute_result"
    }
   ],
   "source": [
    "my_array[:2]"
   ]
  },
  {
   "cell_type": "code",
   "execution_count": 156,
   "id": "db50161f",
   "metadata": {},
   "outputs": [
    {
     "data": {
      "text/plain": [
       "8"
      ]
     },
     "execution_count": 156,
     "metadata": {},
     "output_type": "execute_result"
    }
   ],
   "source": [
    "my_array[-1]"
   ]
  },
  {
   "cell_type": "code",
   "execution_count": 166,
   "id": "e3577f62",
   "metadata": {},
   "outputs": [
    {
     "data": {
      "text/plain": [
       "array([3, 4, 5, 6])"
      ]
     },
     "execution_count": 166,
     "metadata": {},
     "output_type": "execute_result"
    }
   ],
   "source": [
    "slice_my_array = np.arange(3,7)\n",
    "slice_my_array"
   ]
  },
  {
   "cell_type": "code",
   "execution_count": 168,
   "id": "b731c0ad",
   "metadata": {},
   "outputs": [
    {
     "data": {
      "text/plain": [
       "array([4, 5])"
      ]
     },
     "execution_count": 168,
     "metadata": {},
     "output_type": "execute_result"
    }
   ],
   "source": [
    "slice = my_array[1:3]\n",
    "slice"
   ]
  },
  {
   "cell_type": "code",
   "execution_count": 169,
   "id": "c14a92ef",
   "metadata": {},
   "outputs": [
    {
     "data": {
      "text/plain": [
       "array([25, 25])"
      ]
     },
     "execution_count": 169,
     "metadata": {},
     "output_type": "execute_result"
    }
   ],
   "source": [
    "slice[:] = 25\n",
    "slice"
   ]
  },
  {
   "cell_type": "code",
   "execution_count": 170,
   "id": "23bf8c4d",
   "metadata": {},
   "outputs": [
    {
     "data": {
      "text/plain": [
       "array([ 3, 25, 25,  6,  7,  8])"
      ]
     },
     "execution_count": 170,
     "metadata": {},
     "output_type": "execute_result"
    }
   ],
   "source": [
    "my_array"
   ]
  },
  {
   "cell_type": "code",
   "execution_count": 171,
   "id": "160a9f34",
   "metadata": {},
   "outputs": [
    {
     "data": {
      "text/plain": [
       "array([ 3, 25, 25,  6,  7,  8])"
      ]
     },
     "execution_count": 171,
     "metadata": {},
     "output_type": "execute_result"
    }
   ],
   "source": [
    "copy = my_array.copy()\n",
    "copy"
   ]
  },
  {
   "cell_type": "code",
   "execution_count": 172,
   "id": "4e03b87b",
   "metadata": {},
   "outputs": [
    {
     "data": {
      "text/plain": [
       "array([ 3, 10, 25,  6,  7,  8])"
      ]
     },
     "execution_count": 172,
     "metadata": {},
     "output_type": "execute_result"
    }
   ],
   "source": [
    "copy[1]=10\n",
    "copy"
   ]
  },
  {
   "cell_type": "code",
   "execution_count": 173,
   "id": "8cf07380",
   "metadata": {},
   "outputs": [
    {
     "data": {
      "text/plain": [
       "array([[2, 3, 4],\n",
       "       [4, 5, 7],\n",
       "       [3, 7, 7]])"
      ]
     },
     "execution_count": 173,
     "metadata": {},
     "output_type": "execute_result"
    }
   ],
   "source": [
    "my_2d = np.array([[2,3,4],[4,5,7],[3,7,7]])\n",
    "my_2d"
   ]
  },
  {
   "cell_type": "code",
   "execution_count": 179,
   "id": "521bcaf0",
   "metadata": {},
   "outputs": [
    {
     "data": {
      "text/plain": [
       "array([4, 5, 7])"
      ]
     },
     "execution_count": 179,
     "metadata": {},
     "output_type": "execute_result"
    }
   ],
   "source": [
    "my_2d[1]"
   ]
  },
  {
   "cell_type": "code",
   "execution_count": 180,
   "id": "aff38fd6",
   "metadata": {},
   "outputs": [
    {
     "data": {
      "text/plain": [
       "7"
      ]
     },
     "execution_count": 180,
     "metadata": {},
     "output_type": "execute_result"
    }
   ],
   "source": [
    "my_2d[1][2] #index 1 and column 2"
   ]
  },
  {
   "cell_type": "code",
   "execution_count": 181,
   "id": "992498df",
   "metadata": {},
   "outputs": [
    {
     "data": {
      "text/plain": [
       "7"
      ]
     },
     "execution_count": 181,
     "metadata": {},
     "output_type": "execute_result"
    }
   ],
   "source": [
    "my_2d[1,2]"
   ]
  },
  {
   "cell_type": "code",
   "execution_count": 182,
   "id": "bf403105",
   "metadata": {},
   "outputs": [
    {
     "data": {
      "text/plain": [
       "array([4, 7, 7])"
      ]
     },
     "execution_count": 182,
     "metadata": {},
     "output_type": "execute_result"
    }
   ],
   "source": [
    "my_2d[:,2] #you want all rows but column 2"
   ]
  },
  {
   "cell_type": "code",
   "execution_count": 190,
   "id": "98ab7383",
   "metadata": {},
   "outputs": [
    {
     "data": {
      "text/plain": [
       "array([1.32007171, 0.79446846, 0.77932894, 0.15346538, 0.60771882,\n",
       "       0.38179814])"
      ]
     },
     "execution_count": 190,
     "metadata": {},
     "output_type": "execute_result"
    }
   ],
   "source": [
    "rand_array = np.random.randn(10)\n",
    "bool_array = rand_array > 0\n",
    "rand_array[bool_array == True]"
   ]
  },
  {
   "cell_type": "code",
   "execution_count": 193,
   "id": "ffa4bba4",
   "metadata": {},
   "outputs": [
    {
     "data": {
      "text/plain": [
       "array([1.32007171])"
      ]
     },
     "execution_count": 193,
     "metadata": {},
     "output_type": "execute_result"
    }
   ],
   "source": [
    "rand_array[rand_array>1]"
   ]
  },
  {
   "cell_type": "code",
   "execution_count": 195,
   "id": "75f6d4dd",
   "metadata": {},
   "outputs": [
    {
     "data": {
      "text/plain": [
       "array([[ 0.80174917, -0.76273717, -0.92213643, -0.09281958, -2.15590923],\n",
       "       [-0.01943135,  0.7797365 ,  0.89579701,  0.3839045 ,  0.55778701],\n",
       "       [-1.23376804, -0.05903596,  1.152534  , -0.96179238, -0.78997869]])"
      ]
     },
     "execution_count": 195,
     "metadata": {},
     "output_type": "execute_result"
    }
   ],
   "source": [
    "rand_array = np.random.randn(15).reshape(3,5)\n",
    "rand_array"
   ]
  },
  {
   "cell_type": "code",
   "execution_count": 197,
   "id": "5592a51b",
   "metadata": {},
   "outputs": [
    {
     "data": {
      "text/plain": [
       "array([0.80174917, 0.7797365 , 0.89579701, 0.3839045 , 0.55778701,\n",
       "       1.152534  ])"
      ]
     },
     "execution_count": 197,
     "metadata": {},
     "output_type": "execute_result"
    }
   ],
   "source": [
    "rand_array[rand_array>0]"
   ]
  },
  {
   "cell_type": "code",
   "execution_count": 216,
   "id": "38e22068",
   "metadata": {},
   "outputs": [
    {
     "data": {
      "text/plain": [
       "array([[-0.13570929, -0.69124786,  1.3814733 , -0.57695988, -0.18442027],\n",
       "       [-0.34545807,  0.03403026,  0.59367665,  0.54588717, -0.56104355],\n",
       "       [-2.10064025,  0.1869751 ,  1.56142073, -0.92932649,  0.99409337]])"
      ]
     },
     "execution_count": 216,
     "metadata": {},
     "output_type": "execute_result"
    }
   ],
   "source": [
    "import pandas as pd \n",
    "import numpy as np\n",
    "array  = np.random.randn(1,15).reshape(3,5)\n",
    "array "
   ]
  },
  {
   "cell_type": "code",
   "execution_count": 232,
   "id": "debd7bd6",
   "metadata": {},
   "outputs": [],
   "source": [
    "import pandas as pd \n",
    "data = pd.DataFrame(['Cat','Dog','Elephant'])\n",
    "data=data[data[0]=='Dog']\n",
    "\n",
    "\n",
    "data.to_csv('doodoo.csv', index=False)"
   ]
  },
  {
   "cell_type": "code",
   "execution_count": 263,
   "id": "46d9f48a",
   "metadata": {},
   "outputs": [
    {
     "name": "stdout",
     "output_type": "stream",
     "text": [
      "[[11 14  3  2  9 10  8 13 14  7]\n",
      " [10  4  4 15  5  9 13 11  6 11]\n",
      " [ 5  8 10  5  9  9 14 14  3 15]\n",
      " [13 12 12  9 11  9 15 10  5 15]\n",
      " [ 3  4  7 11  6  7  6 11  7 15]\n",
      " [15  7  2 14 10  8  3  9  7 11]\n",
      " [ 4 13  5 14 15  4  4 13 14 12]]\n",
      "\n",
      "[11 14  9 10  8 13 14  7 10 15  9 13 11  6 11  8 10  9  9 14 14 15 13 12\n",
      " 12  9 11  9 15 10 15  7 11  6  7  6 11  7 15 15  7 14 10  8  9  7 11 13\n",
      " 14 15 13 14 12]\n"
     ]
    }
   ],
   "source": [
    "import numpy as np\n",
    "\n",
    "data = np.random.randint(2, 16, (7, 10))  # Generates a 7x10 array of random integers between 2 and 15\n",
    "filtered_data = data[data > 5]  # Extracts elements greater than 5\n",
    "\n",
    "print(data) \n",
    "print()\n",
    "print(filtered_data)"
   ]
  },
  {
   "cell_type": "code",
   "execution_count": 240,
   "id": "0fec5621",
   "metadata": {},
   "outputs": [
    {
     "data": {
      "text/plain": [
       "array([[0.96796679, 0.36024707, 0.80142764, 0.30984982, 0.79503273],\n",
       "       [0.08542518, 0.82173122, 0.47438224, 0.29063391, 0.65069801],\n",
       "       [0.76617422, 0.82487241, 0.64040819, 0.70813865, 0.46263302]])"
      ]
     },
     "execution_count": 240,
     "metadata": {},
     "output_type": "execute_result"
    }
   ],
   "source": [
    "# array=np.arange(1,6) results: array([1, 2, 3, 4, 5])\n",
    "data = np.random.randint(10, 50, (3, 3))\n",
    "array"
   ]
  },
  {
   "cell_type": "code",
   "execution_count": 295,
   "id": "ce14a836",
   "metadata": {},
   "outputs": [
    {
     "name": "stdout",
     "output_type": "stream",
     "text": [
      "Mean  619.1\n",
      "Median  685.0\n",
      "Standard Deviation 332.8033954153713\n",
      "Variance  110758.1\n"
     ]
    }
   ],
   "source": [
    "import numpy as np \n",
    "import pandas as pd\n",
    "# from scipy import stats\n",
    "\n",
    "data1  = np.random.randint(1,1000,(20,6))\n",
    "data2  = np.random.randint(1,1000,(10))\n",
    "data1 = pd.DataFrame(data1)\n",
    "data2 = pd.DataFrame(data2)\n",
    "data1\n",
    "mean = data2[0].mean()\n",
    "median = data2[0].median()\n",
    "# mode = stats.mode(data2[0])[0][0]\n",
    "std = data2[0].std()\n",
    "variance = data2[0].var()\n",
    "print(\"Mean \", mean)\n",
    "print(\"Median \", median)\n",
    "# print(mode)\n",
    "print(\"Standard Deviation\" , std)\n",
    "print(\"Variance \", variance)\n",
    "# print(\"Squared\", np.power(data2[0],2))\n",
    "\n",
    "data2.to_csv('Mini-DataProject',index=False)"
   ]
  },
  {
   "cell_type": "code",
   "execution_count": 317,
   "id": "8bad267a",
   "metadata": {},
   "outputs": [
    {
     "data": {
      "text/html": [
       "<div>\n",
       "<style scoped>\n",
       "    .dataframe tbody tr th:only-of-type {\n",
       "        vertical-align: middle;\n",
       "    }\n",
       "\n",
       "    .dataframe tbody tr th {\n",
       "        vertical-align: top;\n",
       "    }\n",
       "\n",
       "    .dataframe thead th {\n",
       "        text-align: right;\n",
       "    }\n",
       "</style>\n",
       "<table border=\"1\" class=\"dataframe\">\n",
       "  <thead>\n",
       "    <tr style=\"text-align: right;\">\n",
       "      <th></th>\n",
       "      <th>ow</th>\n",
       "      <th>bo</th>\n",
       "      <th>co</th>\n",
       "      <th>do</th>\n",
       "      <th>to</th>\n",
       "    </tr>\n",
       "  </thead>\n",
       "  <tbody>\n",
       "    <tr>\n",
       "      <th>1</th>\n",
       "      <td>25.0</td>\n",
       "      <td>8.0</td>\n",
       "      <td>48.0</td>\n",
       "      <td>33.0</td>\n",
       "      <td>6.0</td>\n",
       "    </tr>\n",
       "    <tr>\n",
       "      <th>2</th>\n",
       "      <td>11.0</td>\n",
       "      <td>43.0</td>\n",
       "      <td>9.0</td>\n",
       "      <td>10.0</td>\n",
       "      <td>24.0</td>\n",
       "    </tr>\n",
       "    <tr>\n",
       "      <th>3</th>\n",
       "      <td>2.0</td>\n",
       "      <td>24.0</td>\n",
       "      <td>4.0</td>\n",
       "      <td>11.0</td>\n",
       "      <td>34.0</td>\n",
       "    </tr>\n",
       "  </tbody>\n",
       "</table>\n",
       "</div>"
      ],
      "text/plain": [
       "     ow    bo    co    do    to\n",
       "1  25.0   8.0  48.0  33.0   6.0\n",
       "2  11.0  43.0   9.0  10.0  24.0\n",
       "3   2.0  24.0   4.0  11.0  34.0"
      ]
     },
     "execution_count": 317,
     "metadata": {},
     "output_type": "execute_result"
    }
   ],
   "source": [
    "import numpy as np \n",
    "import pandas as pd \n",
    "\n",
    "data = np.random.randint(1,50,(3,5))\n",
    "data = pd.DataFrame(data, index=[1,2,3], columns=['ow','bo','co','do','to'])\n",
    "\n",
    "data=data.astype(float)\n",
    "data['ow'] = data['ow'].apply(lambda x: 2 if x > 25 else x)\n",
    "\n",
    "data"
   ]
  },
  {
   "cell_type": "code",
   "execution_count": 324,
   "id": "635af085",
   "metadata": {},
   "outputs": [
    {
     "name": "stdout",
     "output_type": "stream",
     "text": [
      "head\n",
      "head\n",
      "tails\n",
      "head\n",
      "tails\n"
     ]
    }
   ],
   "source": [
    "\"For Each Number, Choose Randomly\"\n",
    "import numpy as np\n",
    "for x in range(5):\n",
    "    result=np.random.choice(['head','tails'])\n",
    "    print(result)\n"
   ]
  },
  {
   "cell_type": "code",
   "execution_count": 341,
   "id": "fd890fff",
   "metadata": {},
   "outputs": [
    {
     "name": "stdout",
     "output_type": "stream",
     "text": [
      "0\n",
      "1\n",
      "2\n",
      "3\n",
      "4\n"
     ]
    }
   ],
   "source": [
    "for x in range(5):\n",
    "    print(x)"
   ]
  },
  {
   "cell_type": "code",
   "execution_count": 337,
   "id": "eea1f9d9",
   "metadata": {},
   "outputs": [
    {
     "name": "stdout",
     "output_type": "stream",
     "text": [
      "0\n",
      "1\n",
      "2\n",
      "3\n",
      "4\n"
     ]
    }
   ],
   "source": [
    "x=0\n",
    "while x <5:\n",
    "    print(x)\n",
    "    x = x + 1"
   ]
  }
 ],
 "metadata": {
  "kernelspec": {
   "display_name": "Python 3 (ipykernel)",
   "language": "python",
   "name": "python3"
  },
  "language_info": {
   "codemirror_mode": {
    "name": "ipython",
    "version": 3
   },
   "file_extension": ".py",
   "mimetype": "text/x-python",
   "name": "python",
   "nbconvert_exporter": "python",
   "pygments_lexer": "ipython3",
   "version": "3.10.1"
  }
 },
 "nbformat": 4,
 "nbformat_minor": 5
}
