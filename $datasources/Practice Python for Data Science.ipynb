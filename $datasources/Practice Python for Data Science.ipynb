{
 "cells": [
  {
   "cell_type": "code",
   "execution_count": 19,
   "id": "33932548",
   "metadata": {},
   "outputs": [
    {
     "name": "stdout",
     "output_type": "stream",
     "text": [
      "[1 2 3 4]\n",
      "[2 1 4 4 4]\n",
      "10\n",
      "    Duration          Date  Pulse  Maxpulse  Calories\n",
      "0         60  '2020/12/01'    110       130     409.1\n",
      "1         60  '2020/12/02'    117       145     479.0\n",
      "2         60  '2020/12/03'    103       135     340.0\n",
      "3         45  '2020/12/04'    109       175     282.4\n",
      "4         45  '2020/12/05'    117       148     406.0\n",
      "5         60  '2020/12/06'    102       127     300.0\n",
      "6         60  '2020/12/07'    110       136     374.0\n",
      "7         99  '2020/12/08'    104       134     253.3\n",
      "8         30  '2020/12/09'    109       133     195.1\n",
      "9         60  '2020/12/10'     98       124     269.0\n",
      "10        60  '2020/12/11'    103       147     329.3\n",
      "11        60  '2020/12/12'    100       120     250.7\n",
      "12        60  '2020/12/12'    100       120     250.7\n",
      "13        60  '2020/12/13'    106       128     345.3\n",
      "14        60  '2020/12/14'    104       132     379.3\n",
      "15        60  '2020/12/15'     98       123     275.0\n",
      "16        60  '2020/12/16'     98       120     215.2\n",
      "17        60  '2020/12/17'    100       120     300.0\n",
      "18        45  '2020/12/18'     90       112       NaN\n",
      "19        60  '2020/12/19'    103       123     323.0\n",
      "20        45  '2020/12/20'     97       125     243.0\n",
      "21        60  '2020/12/21'    108       131     364.2\n",
      "22        45    2020/12/22    100       119     282.0\n",
      "23        60  '2020/12/23'    130       101     300.0\n",
      "24        45  '2020/12/24'    105       132     246.0\n",
      "25        60  '2020/12/25'    102       126     334.5\n",
      "26        60      20201226    100       120     250.0\n",
      "27        60  '2020/12/27'     92       118     241.0\n",
      "28        60  '2020/12/28'    103       132       NaN\n",
      "29        60  '2020/12/29'    100       132     280.0\n",
      "30        60  '2020/12/30'    102       129     380.3\n",
      "31        60  '2020/12/31'     92       115     243.0\n"
     ]
    }
   ],
   "source": [
    "import numpy as np \n",
    "import pandas as pd\n",
    "data = np.array([1,2,3,4])\n",
    "data2 = np.random.randint(1,5,5)\n",
    "print(data)\n",
    "print(data2)\n",
    "\n",
    "print(data.sum())\n",
    "data2.sum()\n",
    "\n",
    "data = pd.read_csv('dirtydata.csv')\n",
    "data.loc[(22,['Date'])]='2020/12/22'\n",
    "data.loc[7,'Duration']=99\n",
    "print(data)\n"
   ]
  },
  {
   "cell_type": "code",
   "execution_count": 20,
   "id": "aa7c4199",
   "metadata": {},
   "outputs": [
    {
     "name": "stdout",
     "output_type": "stream",
     "text": [
      "1\n",
      "3\n",
      "5\n",
      "7\n",
      "9\n",
      "11\n",
      "13\n",
      "15\n",
      "17\n",
      "19\n"
     ]
    }
   ],
   "source": [
    "for i in range(1,20,2):\n",
    "    print(i)"
   ]
  },
  {
   "cell_type": "code",
   "execution_count": 21,
   "id": "97aed8df",
   "metadata": {},
   "outputs": [
    {
     "name": "stdout",
     "output_type": "stream",
     "text": [
      "1\n",
      "2\n",
      "3\n",
      "4\n",
      "5\n",
      "6\n",
      "7\n",
      "8\n",
      "9\n",
      "10\n",
      "11\n",
      "12\n",
      "13\n",
      "14\n",
      "15\n",
      "16\n",
      "17\n",
      "18\n",
      "19\n",
      "20\n",
      "21\n",
      "22\n",
      "23\n",
      "24\n",
      "25\n"
     ]
    }
   ],
   "source": [
    "import numpy as np \n",
    "for i in range(1,np.random.randint(100)):\n",
    "    print(i)"
   ]
  },
  {
   "cell_type": "code",
   "execution_count": 23,
   "id": "75fc1aa6",
   "metadata": {},
   "outputs": [
    {
     "name": "stdout",
     "output_type": "stream",
     "text": [
      "1 2 3 4 5 6 7 8 9 \n",
      "2 4 6 8 10 12 14 16 18 \n",
      "3 6 9 12 15 18 21 24 27 \n",
      "4 8 12 16 20 24 28 32 36 \n",
      "5 10 15 20 25 30 35 40 45 \n",
      "6 12 18 24 30 36 42 48 54 \n",
      "7 14 21 28 35 42 49 56 63 \n",
      "8 16 24 32 40 48 56 64 72 \n",
      "9 18 27 36 45 54 63 72 81 \n"
     ]
    }
   ],
   "source": [
    "for i in range(1,10):\n",
    "    for j in range(1,10):\n",
    "        print(i*j, end=' ')\n",
    "    print()"
   ]
  },
  {
   "cell_type": "code",
   "execution_count": 35,
   "id": "d6868f3c",
   "metadata": {},
   "outputs": [],
   "source": [
    "data = ['Apple','Banana','Anni','Airplane']\n",
    "for i in data:\n",
    "    if 'A' in i.lower():\n",
    "        print(i)"
   ]
  },
  {
   "cell_type": "code",
   "execution_count": 47,
   "id": "70bb1437",
   "metadata": {},
   "outputs": [
    {
     "name": "stdout",
     "output_type": "stream",
     "text": [
      "my favorite fruit is Apple.\n",
      "my favorite fruit is Banana.\n",
      "my favorite fruit is Anni.\n",
      "my favorite fruit is Airplane.\n"
     ]
    }
   ],
   "source": [
    "data = ['Apple', 'Banana', 'Anni', 'Airplane']\n",
    "for i in data:\n",
    "    if 'a' in i.lower():  # Checks if 'a' or 'A' is in the string\n",
    "        print(f\"my favorite fruit is {i}.\")"
   ]
  },
  {
   "cell_type": "code",
   "execution_count": null,
   "id": "2d075486",
   "metadata": {},
   "outputs": [],
   "source": [
    "for vairable in range:\n",
    "    #code block\n",
    "while condition:\n",
    "    #code block"
   ]
  },
  {
   "cell_type": "code",
   "execution_count": 50,
   "id": "ca072ba2",
   "metadata": {},
   "outputs": [
    {
     "name": "stdout",
     "output_type": "stream",
     "text": [
      "Apple contains the letter 'a'\n",
      "Banana contains the letter 'a'\n",
      "Anni contains the letter 'a'\n",
      "Airplane contains the letter 'a'\n"
     ]
    }
   ],
   "source": [
    "data = ['Apple', 'Banana', 'Anni', 'Airplane']\n",
    "index = 0\n",
    "\n",
    "while index < len(data):\n",
    "    fruit = data[index]\n",
    "    for char in fruit:  # Loop through each character in the fruit name\n",
    "        if char.lower() == 'a':  # Check if the character is 'a'\n",
    "            print(f\"{fruit} contains the letter 'a'\")\n",
    "            break  # Exit the for loop once 'a' is found\n",
    "    index += 1  # Increment the index for the while loop"
   ]
  },
  {
   "cell_type": "code",
   "execution_count": 60,
   "id": "8dda43b3",
   "metadata": {},
   "outputs": [
    {
     "name": "stdout",
     "output_type": "stream",
     "text": [
      "3\n",
      "apple\n",
      "banana\n"
     ]
    }
   ],
   "source": [
    "import pandas as pd\n",
    "x=['apple','banana','yellow']\n",
    "print(len(x))\n",
    "i=0\n",
    "while i <len(x):\n",
    "    if 'a' in x[i]:\n",
    "        print(x[i])\n",
    "    i+=1\n",
    "    "
   ]
  },
  {
   "cell_type": "code",
   "execution_count": null,
   "id": "36da723e",
   "metadata": {},
   "outputs": [],
   "source": [
    "x = [1, 2, 3, 4, 5, 6, 7, 8, 9, 10, 11, 12, 13, 14]\n",
    "i = 0\n",
    "while i < len(x):\n",
    "    if 'a' in str(x[i]):  # Convert the number to a string to check for 'a'\n",
    "        print(x[i])\n",
    "    i += 1"
   ]
  },
  {
   "cell_type": "code",
   "execution_count": 77,
   "id": "bbee34e0",
   "metadata": {},
   "outputs": [
    {
     "name": "stdout",
     "output_type": "stream",
     "text": [
      "2\n",
      "4\n",
      "6\n",
      "8\n",
      "10\n",
      "12\n",
      "14\n"
     ]
    }
   ],
   "source": [
    "x = [1, 2, 3, 4, 5, 6, 7, 8, 9, 10, 11, 12, 13, 14]\n",
    "for i in range(len(x)):\n",
    "    if x[i] % 2 == 0:\n",
    "        print(x[i])"
   ]
  },
  {
   "cell_type": "code",
   "execution_count": 78,
   "id": "23733be9",
   "metadata": {},
   "outputs": [
    {
     "name": "stdout",
     "output_type": "stream",
     "text": [
      "2\n",
      "4\n",
      "6\n",
      "8\n",
      "10\n",
      "12\n",
      "14\n"
     ]
    }
   ],
   "source": [
    "x = [1, 2, 3, 4, 5, 6, 7, 8, 9, 10, 11, 12, 13, 14]\n",
    "i = 0\n",
    "\n",
    "while i < len(x):\n",
    "    if x[i] % 2 == 0:\n",
    "        print(x[i])\n",
    "    i += 1"
   ]
  },
  {
   "cell_type": "code",
   "execution_count": 98,
   "id": "35ab9e26",
   "metadata": {},
   "outputs": [
    {
     "name": "stdout",
     "output_type": "stream",
     "text": [
      "        Date Category       Sub-Category   Amount Payment Mode\n",
      "0 2023-02-01  Grocery  Fruits and Veggies     456         Cash\n",
      "1 2023-02-02  Grocery                Milk      26          UPI\n",
      "2 2023-02-03     Food          Restaurant     560          UPI\n",
      "3 2023-02-04     Food  Fruits and Veggies     660         Cash\n",
      "4 2023-02-05     Food              Zomato     400          UPI\n",
      "        Date    Category Sub-Category   Amount Payment Mode\n",
      "0 2023-01-01     Grocery       Grocery      30         Cash\n",
      "1 2023-01-02        Food    Restaurant     890          UPI\n",
      "2 2023-01-04         123        Zomato     257          NaN\n",
      "3 2023-01-06  Essentials         Diary     120          UPI\n",
      "4 2023-01-06  Essentials       Perfume    1500         Cash\n",
      "      Date   Category      Sub-Category   Amount Payment Mode\n",
      "2023-01-01    Grocery            Grocery      30         Cash\n",
      "2023-01-02       Food         Restaurant     890          UPI\n",
      "2023-01-04        123             Zomato     257          NaN\n",
      "2023-01-06 Essentials              Diary     120          UPI\n",
      "2023-01-06 Essentials            Perfume    1500         Cash\n",
      "2023-01-09    Grocery Fruits and Veggies     456         Cash\n",
      "2023-01-10      Bills         House Rent   16000          UPI\n",
      "2023-01-10    Grocery     Tomato KetchUp      70          UPI\n",
      "2023-01-12       Food               Chai      15          UPI\n",
      "2023-01-15 Essentials     Salt and Sugar      50          NaN\n",
      "2023-01-17    Grocery          Chocolate     100          UPI\n",
      "2023-01-17       Food         Restaurant     780         Card\n",
      "2023-01-18 Essentials           Food Oil     120          NaN\n",
      "2023-01-18       Food             Zomato     230          UPI\n",
      "2023-01-19    Grocery               Milk      26          UPI\n",
      "2023-01-20 Essentials            Shampoo     780          UPI\n",
      "2023-01-20 Essentials          Lunch Box     890         Cash\n",
      "2023-01-21    Clothes              Dress    1000          NaN\n",
      "2023-01-22    Clothes              Dress    1890          UPI\n",
      "2023-01-23    Grocery     Bread and Milk      56         Cash\n",
      "2023-01-24       Food Fruits and Veggies     530         Cash\n",
      "2023-01-26       Food               Chai      10          UPI\n",
      "2023-01-26    Grocery              Maggi     140          UPI\n",
      "2023-01-27       Food             Zomato     300          UPI\n",
      "2023-01-27       Food               Chai      10          UPI\n",
      "2023-01-28 Essentials          Bedsheets    1025         Cash\n",
      "2023-01-29      Bills            Mobile     1650          UPI\n",
      "2023-01-29    Grocery               Daal     150         Cash\n",
      "2023-01-30      Bills           Cylinder    1074          UPI\n",
      "2023-02-01    Grocery Fruits and Veggies     456         Cash\n",
      "2023-02-02    Grocery               Milk      26          UPI\n",
      "2023-02-03       Food         Restaurant     560          UPI\n",
      "2023-02-04       Food Fruits and Veggies     660         Cash\n",
      "2023-02-05       Food             Zomato     400          UPI\n",
      "2023-02-06       Food             Zomato     200          UPI\n",
      "2023-02-06    Grocery          Chocolate     100         Cash\n",
      "2023-02-08    Grocery     Bread and Milk      56         Cash\n",
      "2023-02-09    Grocery            Grocery      30         Cash\n",
      "2023-02-10       Food         Restaurant    1200          UPI\n",
      "2023-02-11 Essentials            Shampoo     780         Cash\n",
      "2023-02-11 Essentials           Food Oil     120          UPI\n",
      "2023-02-11 Essentials              Diary     120          UPI\n",
      "2023-02-14 Essentials     Salt and Sugar      50         Cash\n",
      "2023-02-15    Clothes              Dress    1890          UPI\n",
      "2023-02-17    Clothes              Dress    1000         Card\n",
      "2023-02-17      Bills         House Rent   16000          UPI\n",
      "2023-02-18      Bills            Mobile     1650          UPI\n",
      "2023-02-19      Bills           Cylinder    1074         Cash\n",
      "2023-02-20    Clothes              Dress      10          UPI\n",
      "2023-02-21       Food         Restaurant      15          UPI\n",
      "2023-02-22 Essentials          Bedsheets    1025         Cash\n",
      "2023-02-23    Grocery          Chocolate      70          UPI\n",
      "2023-02-24       Food             Zomato     230          UPI\n",
      "2023-02-25 Essentials            Perfume    1500         Cash\n",
      "2023-02-15 Essentials          Lunch Box     890         Cash\n",
      "2023-02-10    Grocery          Chocolate     150         Cash\n",
      "2023-02-15    Grocery              Maggi     140          UPI\n",
      "2023-02-23       Food         Restaurant     780         Card\n"
     ]
    }
   ],
   "source": [
    "import pandas as pd \n",
    "data1 = pd.read_excel('expense3.xlsx', sheet_name='January')\n",
    "data2 = pd.read_excel('expense3.xlsx', sheet_name='February')\n",
    "print(data2.head())\n",
    "print(data1.head())\n",
    "data=pd.concat([data1,data2], ignore_index=True)\n",
    "print(data.to_string(index=False))"
   ]
  },
  {
   "cell_type": "code",
   "execution_count": null,
   "id": "a2ccd741",
   "metadata": {},
   "outputs": [],
   "source": []
  }
 ],
 "metadata": {
  "kernelspec": {
   "display_name": "Python 3 (ipykernel)",
   "language": "python",
   "name": "python3"
  },
  "language_info": {
   "codemirror_mode": {
    "name": "ipython",
    "version": 3
   },
   "file_extension": ".py",
   "mimetype": "text/x-python",
   "name": "python",
   "nbconvert_exporter": "python",
   "pygments_lexer": "ipython3",
   "version": "3.10.1"
  }
 },
 "nbformat": 4,
 "nbformat_minor": 5
}
