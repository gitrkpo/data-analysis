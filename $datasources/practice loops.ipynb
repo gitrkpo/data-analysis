{
 "cells": [
  {
   "cell_type": "code",
   "execution_count": 2,
   "id": "4259c551",
   "metadata": {},
   "outputs": [
    {
     "data": {
      "text/plain": [
       "array([ 4, 16, 36, 64], dtype=int32)"
      ]
     },
     "execution_count": 2,
     "metadata": {},
     "output_type": "execute_result"
    }
   ],
   "source": [
    "import numpy as np\n",
    "numbers = [2, 4, 6, 8]\n",
    "# Use lambda and map to square each number\n",
    "numbers = np.power(numbers,2)\n",
    "numbers"
   ]
  },
  {
   "cell_type": "code",
   "execution_count": 5,
   "id": "e0027e3a",
   "metadata": {},
   "outputs": [
    {
     "name": "stdout",
     "output_type": "stream",
     "text": [
      "1\n",
      "2\n",
      "3\n",
      "4\n"
     ]
    }
   ],
   "source": [
    "x = 1\n",
    "while x < 5:  # Continues as long as x is less than 5\n",
    "    print(x)\n",
    "    x += 1"
   ]
  },
  {
   "cell_type": "code",
   "execution_count": 12,
   "id": "c1500677",
   "metadata": {},
   "outputs": [
    {
     "name": "stdout",
     "output_type": "stream",
     "text": [
      "Guess the number5\n",
      "Guess the number4\n",
      "Guess the number2\n",
      "Guess the number1\n",
      "Guess the number3\n",
      "Guess the number7\n",
      "Guess the number6\n",
      "Guess the number8\n",
      "Guess the number9\n",
      "The secret number was 9 you guessed it correctly\n"
     ]
    }
   ],
   "source": [
    "import numpy as np\n",
    "secret_number = np.random.randint(1,10)\n",
    " \n",
    "while guess != secret_number:\n",
    "    guess=int(input('Guess the number'))\n",
    "print(f'The secret number was {secret_number} you guessed it correctly')\n",
    "    "
   ]
  }
 ],
 "metadata": {
  "kernelspec": {
   "display_name": "Python 3 (ipykernel)",
   "language": "python",
   "name": "python3"
  },
  "language_info": {
   "codemirror_mode": {
    "name": "ipython",
    "version": 3
   },
   "file_extension": ".py",
   "mimetype": "text/x-python",
   "name": "python",
   "nbconvert_exporter": "python",
   "pygments_lexer": "ipython3",
   "version": "3.10.1"
  }
 },
 "nbformat": 4,
 "nbformat_minor": 5
}
